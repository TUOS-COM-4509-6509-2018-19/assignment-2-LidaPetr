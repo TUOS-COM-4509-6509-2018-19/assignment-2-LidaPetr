{
 "cells": [
  {
   "cell_type": "markdown",
   "metadata": {},
   "source": [
    "# Objective Functions: A Simple Example with Matrix Factorisation.\n",
    "\n",
    "### 6th October 2015 Neil D. Lawrence\n",
    "\n",
    "### Modified by Mauricio A Álvarez, 1st October 2018\n",
    "\n",
    "In last week's class we saw how we could load in a data set to pandas and use it for some simple data processing. We computed various probabilities on the data and I encouraged you to think about what sort of probabilities you need for prediction. This week we are going to take a slightly different tack. \n",
    "\n",
    "Broadly speaking there are two dominating approaches to machine learning problems. We started to consider the first approach last week: constructing models based on defining the relationship between variables using probabilities. This week we will consider the second approach: which involves defining an *objective function* and optimizing it. \n",
    "\n",
    "What do we mean by an objective function? An objective function could be an *error function*, a *cost function* or a *benefit* function. In evolutionary computing they are called *fitness* functions. But the idea is always the same. We write down a mathematical equation which is then optimized to do the learning. The equation should be a function of the *data* and our model *parameters*. We have a choice when optimizing, either minimize or maximize. To avoid confusion, in the optimization field, we always choose to minimize the function. If we have a function that we would like to maximize, we simply choose to minimize the negative of that function. \n",
    "\n",
    "So for this lab session, we are going to ignore probabilities, but don't worry, they will return! \n",
    "\n",
    "This week we are going to try and build a simple movie recommender system using an objective function. To do this, the first thing I'd like you to do is to install some software we've written for sharing information across google documents.\n",
    "\n",
    "## Open Data Science Software\n",
    "\n",
    "In Sheffield we have written a suite of software tools for 'Open Data Science'. Open data science is an approach to sharing code, models and data that should make it easier for companies, health professionals and scientists to gain access to data science techniques. For some background on open data science you can read [this blog post](http://inverseprobability.com/2014/07/01/open-data-science/). The first thing we will do this week is to download that suite of software. \n",
    "\n",
    "The software can be installed using\n",
    "\n",
    "```python\n",
    "pip install pods\n",
    "```\n",
    "\n",
    "from the command prompt where you can access your python installation.\n",
    "\n",
    "\n",
    "## Download the MovieLens 100k Data\n",
    "\n",
    "We are going to download the [MovieLens 100k](http://files.grouplens.org/datasets/movielens/ml-latest-small-README.html) Data. This is a public dataset that contains 100,000 ratings and 3,600 tag applications applied to 9,000 movies by 600 users. When you use a data set that someone has prepared you should always reference the data source to acknowledge the work that's been placed in. This particular dataset was collected by the [Grouplens Research group](https://grouplens.org/),  at the University of Minnesota. For example, if you were to use this dataset for writing a paper, the authors ask you that you acknowledge their work by citing the following paper:\n",
    "\n",
    "F. Maxwell Harper and Joseph A. Konstan. 2015. The MovieLens Datasets: History and Context. ACM Transactions on Interactive Intelligent Systems (TiiS) 5 (4):1-19 [https://doi.org/10.1145/2827872](https://doi.org/10.1145/2827872)"
   ]
  },
  {
   "cell_type": "code",
   "execution_count": 1,
   "metadata": {},
   "outputs": [
    {
     "data": {
      "text/plain": [
       "'\\npods.util.download_url(\"http://files.grouplens.org/datasets/movielens/ml-latest-small.zip\")\\nzip_console = zipfile.ZipFile(\\'ml-latest-small.zip\\', \\'r\\')\\nfor name in zip_console.namelist():\\n           zip_console.extract(name, \\'./\\')\\n           '"
      ]
     },
     "execution_count": 1,
     "metadata": {},
     "output_type": "execute_result"
    }
   ],
   "source": [
    "import pods\n",
    "import zipfile\n",
    "import sys\n",
    "import pandas as pd\n",
    "import numpy as np\n",
    "%matplotlib inline \n",
    "import pylab as plt # this imports the plotting library in python\n",
    "'''\n",
    "pods.util.download_url(\"http://files.grouplens.org/datasets/movielens/ml-latest-small.zip\")\n",
    "zip_console = zipfile.ZipFile('ml-latest-small.zip', 'r')\n",
    "for name in zip_console.namelist():\n",
    "           zip_console.extract(name, './')\n",
    "           '''\n"
   ]
  },
  {
   "cell_type": "markdown",
   "metadata": {},
   "source": [
    "### Assignment Question 1\n",
    "\n",
    "Data ethics. If you find data available on the internet, can you simply use it without consequence? If you are given data by a fellow researcher can you publish that data on line? \n",
    "\n",
    "*5 marks*"
   ]
  },
  {
   "cell_type": "markdown",
   "metadata": {},
   "source": [
    "#### Question 1 Answer\n",
    "\n",
    "In order to use a data that is available online in my work, I should always check the data source. This is done to acknowledge the work that has been placed in order to prepare the given data, otherwise I can be sued. If a fellow researcher gives me data, then I cannot publish them online without taking his permission, but if he accepts to publish his results online, his name should be mentioned. "
   ]
  },
  {
   "cell_type": "markdown",
   "metadata": {},
   "source": [
    "## Recommender Systems\n",
    "\n",
    "A recommender system aims to make suggestions for items (films, books, other commercial products) given what it knows about users' tastes. The recommendation engine needs to represent the *taste* of all the users and the *characteristics* of each object. \n",
    "\n",
    "A common way for organizing objects is to place related objects spatially close together. For example in a library we try and put books that are on related topics near to each other on the shelves. One system for doing this is known as [Dewey Decimal Classification](http://en.wikipedia.org/wiki/Dewey_Decimal_Classification). In the Dewey Decimal Classification system (which dates from 1876) each subject is given a number (in fact it's a decimal number). For example, the field of Natural Sciences and Mathematics is given numbers which start with 500. Subjects based on Computer Science are given numbers which start 004 and works on the 'mathematical principles' of Computer science are given the series 004.0151 (which we might store as 4.0151 on a Computer). Whilst it's a classification system, the books in the library are typically laid out in the same order as the numbers, so we might expect that neighbouring numbers represent books that are related in subject. That seems to be exactly what we want when also representing films. Could we somehow represent each film's subject according to a number? In a similar way we could then imagine representing users with a list of numbers that represent things that each user is interested in.\n",
    "\n",
    "Actually a one dimensional representation of a subject can be very awkward. To see this, let's have a look at the Dewey Decimal Classification numbers for the 900s, which is listed as 'History and Geography'. We will focus on subjects in the 940s which can be found in this list from [Wikipedia](https://en.wikipedia.org/wiki/List_of_Dewey_Decimal_classes#Class_900_%E2%80%93_History_&_geography). Whilst the ordering for places is somewhat sensible, it is also rather arbitrary. In the 940s we have Europe listed from 940-949, Asia listed from 950-959 and Africa listed from 960-969. Whilst it's true that Asia borders Europe, Africa is also very close, and the history of the Roman Empire spreads into [Carthage](http://en.wikipedia.org/wiki/Carthage) and later on Egypt. This image from Wikipedia shows a map of the Cathaginian Empire which fell after fighting with Rome. \n",
    "\n",
    "\n",
    "<a title=\"By Javierfv1212 [Public domain], from Wikimedia Commons\" href=\"https://commons.wikimedia.org/wiki/File:Carthaginianempire.PNG\"><img width=\"512\" alt=\"Carthaginianempire\" src=\"https://upload.wikimedia.org/wikipedia/commons/thumb/9/9b/Carthaginianempire.PNG/512px-Carthaginianempire.PNG\"></a>\n",
    "\n",
    "We now need to make a decision about whether Roman Histories are European or African, ideally we'd like them to be somewhere between the two, but we can't place them there in the Dewey Decimal system because between Europe and Africa is Asia, which has less to do with the Roman Empire than either Europe or Africa. Of course the fact that we've used a map provides a clue as to what to do next. Libraries are actually laid out on floors, so what if we were to use the spatial lay out to organise the sujbects of the books in two dimensions. Books on Geography could be laid out according to where in the world they are referring to. \n",
    "\n",
    "Such complexities are very hard to encapsulate in one number, but inspired by the map examples we can start considering how we might lay out films in two dimensions. Similarly, we can consider laying out a map of people's interests. If the two maps correspond to one another, the map of people could reflect where they might want to live in 'subject space'. We can think of representing people's tastes as where they might best like to sit in the library to access easily the books they are most interested in.\n",
    "\n",
    "\n",
    "## Inner Products for Representing Similarity\n",
    "\n",
    "Ideas like the above are good for gaining intuitions about what we might want, but the one of the skills of data science is representing those ideas mathematically. Mathematical abstraction of a problem is one of the key ways in which we've been able to progress as a society. Understanding planetary motions, as well as those of the smallest molecule (to quote Laplace's [Philosophical Essay on Probabilities](http://books.google.co.uk/books?id=1YQPAAAAQAAJ&printsec=frontcover&source=gbs_ge_summary_r&cad=0#v=onepage&q&f=false)) needed to be done mathematically. The right mathematical model in machine learning can be slightly more elusive, because constructing it is a two stage process. \n",
    "\n",
    "1. We have to determine the right intuition for the system we want to represent. Notions such as 'subject' and 'interest' are not mathematically well defined, and even when we create a new interpretation of what they might mean, each interpretation may have its own weaknesses. \n",
    "\n",
    "2. Once we have our interpretation we can attempt to mathematically formalize it. In our library interpretation, that's what we need to do next. \n",
    "\n",
    "### The Library on an Infinite Plane\n",
    "\n",
    "Let's imagine a library which stores all the items  we are interested in, not just books, but films and shopping items too. Such a library is likely to be very large, so we'll create it on an infinite two dimensional plane. This means we can use all the real numbers to represent the location of each item on the plane. For a two dimensional plane, we need to store the locations in a vector of numbers: we can decide that the $j$th item's location in the library is given by \n",
    "$$\n",
    "\\mathbf{v}_j = \\begin{bmatrix} v_{j,1} \\\\ v_{j,2}\\end{bmatrix},\n",
    "$$\n",
    "where $v_{j,1}$ represents the $j$th item's location in the East-West direction (or the $x$-axis) and $v_{j,2}$ represents the $j$th item's location in the North-South direction (or the $y$-axis). Now we need to specify the location where each user sits so that all the items that interest them are nearby: we can also represent the $i$th user's location with a vector \n",
    "$$\n",
    "\\mathbf{u}_i = \\begin{bmatrix} u_{i,1} \\\\ u_{i,2}\\end{bmatrix}.\n",
    "$$\n",
    "Finally, we need some way of recording a given user's affinity for a given item. This affinity might be the rating that the user gives the film. We can use $y_{i,j}$ to represent user $i$'s affinity for item $j$. \n",
    "\n",
    "For our film example we might imagine wanting to order films in a few ways. We could imagine organising films in the North-South direction as to how romantic they are. We could place the more romantic films further North and the less romantic films further South. For the East-West direction we could imagine ordering them according to how historic they are: we can imagine placing science fiction films to the East and historical drama to the West. In this case, fans of historical romances would be based in the North-West location, whilst fans of Science Fiction Action films might be located in the South-East (if we assume that 'Action' is the opposite of 'Romance', which is not necessarily the case). How do we lay out all these films? Have we got the right axes? In machine learning the answer is to 'let the data speak'. Use the data to try and obtain such a lay out. To do this we first need to obtain the data."
   ]
  },
  {
   "cell_type": "markdown",
   "metadata": {},
   "source": [
    "## Obtaining the Data\n",
    "\n",
    "As mentioned before, the MovieLens dataset that we'll use has 100,000 ratings to 9,000 movies by 600 users. For now, we will only work with a subset of the dataset. In particular, we will randomly chose a particular number of users and extract the movies and ratings that the users gave to those movies. Read the code below and understand what it is doing.\n",
    "\n",
    "**Before you run the code**, notice that `YourStudentID` in the first line is a variable that will specify the seed for the random number generator that will select a particular set of `nUsersInExample` users. Change the number that has been assigned by default to `YourStudentID` to the last three digits of your UCard number. All of you will have a different subset of users."
   ]
  },
  {
   "cell_type": "code",
   "execution_count": 34,
   "metadata": {},
   "outputs": [],
   "source": [
    "#YourStudentID = 20  # Include here the last three digits of your UCard number\n",
    "YourStudentID = 576  # Include here the last three digits of your UCard number\n",
    "nUsersInExample = 10 # The maximum number of Users we're going to analyse at one time\n",
    "\n",
    "ratings = pd.read_csv(\"./ml-latest-small/ratings.csv\") \n",
    "\"\"\"\n",
    "ratings is a DataFrame with four columns: userId, movieId, rating and tags. We\n",
    "first want to identify how many unique users there are. We can use the unique \n",
    "method in pandas\n",
    "\"\"\"\n",
    "indexes_unique_users = ratings['userId'].unique()\n",
    "n_users = indexes_unique_users.shape[0]\n",
    "\"\"\" \n",
    "We randomly select 'nUsers' users with their ratings. We first fix the seed\n",
    "of the random generator to make sure that we always get the same 'nUsers'\n",
    "\"\"\"\n",
    "np.random.seed(YourStudentID)\n",
    "indexes_users = np.random.permutation(n_users)\n",
    "my_batch_users = indexes_users[0:nUsersInExample]\n",
    "\"\"\"\n",
    "We will use now the list of 'my_batch_users' to create a matrix Y. \n",
    "\"\"\"\n",
    "# We need to make a list of the movies that these users have watched\n",
    "list_movies_each_user = [[] for _ in range(nUsersInExample)]\n",
    "list_ratings_each_user = [[] for _ in range(nUsersInExample)]\n",
    "# Movies\n",
    "list_movies = ratings['movieId'][ratings['userId'] == my_batch_users[0]].values\n",
    "list_movies_each_user[0] = list_movies                    \n",
    "# Ratings                      \n",
    "list_ratings = ratings['rating'][ratings['userId'] == my_batch_users[0]].values\n",
    "list_ratings_each_user[0] = list_ratings\n",
    "# Users\n",
    "n_each_user = list_movies.shape[0]\n",
    "list_users = my_batch_users[0]*np.ones((1, n_each_user))\n",
    "\n",
    "for i in range(1, nUsersInExample):\n",
    "    # Movies\n",
    "    local_list_per_user_movies = ratings['movieId'][ratings['userId'] == my_batch_users[i]].values\n",
    "    list_movies_each_user[i] = local_list_per_user_movies\n",
    "    list_movies = np.append(list_movies,local_list_per_user_movies)\n",
    "    # Ratings                                 \n",
    "    local_list_per_user_ratings = ratings['rating'][ratings['userId'] == my_batch_users[i]].values\n",
    "    list_ratings_each_user[i] = local_list_per_user_ratings\n",
    "    list_ratings = np.append(list_ratings, local_list_per_user_ratings)  \n",
    "    # Users                                   \n",
    "    n_each_user = local_list_per_user_movies.shape[0]                                                                               \n",
    "    local_rep_user =  my_batch_users[i]*np.ones((1, n_each_user))    \n",
    "    list_users = np.append(list_users, local_rep_user)\n",
    "\n",
    "# Let us first see how many unique movies have been rated\n",
    "indexes_unique_movies = np.unique(list_movies)\n",
    "n_movies = indexes_unique_movies.shape[0]\n",
    "# As it is expected no all users have rated all movies. We will build a matrix Y \n",
    "# with NaN inputs and fill according to the data for each user \n",
    "temp = np.empty((n_movies,nUsersInExample,))\n",
    "temp[:] = np.nan\n",
    "Y_with_NaNs = pd.DataFrame(temp)\n",
    "for i in range(nUsersInExample):\n",
    " local_movies = list_movies_each_user[i]\n",
    " ixs = np.in1d(indexes_unique_movies, local_movies)\n",
    " Y_with_NaNs.loc[ixs, i] = list_ratings_each_user[i]\n",
    "\n",
    "Y_with_NaNs.index = indexes_unique_movies.tolist()\n",
    "Y_with_NaNs.columns = my_batch_users.tolist()"
   ]
  },
  {
   "cell_type": "markdown",
   "metadata": {},
   "source": [
    "### Assignment Question 2\n",
    "\n",
    "Have a look at the matrix `Y_with_NaNs`. The movies data is now in a data frame which contains one column for each user rating the movie. There are some entries that contain 'NaN'. What does the 'NaN' mean in this context?\n",
    "\n",
    "*5 marks*"
   ]
  },
  {
   "cell_type": "markdown",
   "metadata": {},
   "source": [
    "#### Answer Question 2\n",
    "\n",
    "In this context the entries that contain the number 'Nan' represent the movies that each user hasn't rated. This is done to ensure that this matrix won't have any empty cells."
   ]
  },
  {
   "cell_type": "markdown",
   "metadata": {},
   "source": [
    "Now we will convert our data structure into a form that is appropriate for processing. We will convert the `Y_with_NaNs` dataframe into a new dataframe which contains the user, the movie, and the rating using the following code"
   ]
  },
  {
   "cell_type": "code",
   "execution_count": 35,
   "metadata": {},
   "outputs": [],
   "source": [
    "p_list_ratings = np.concatenate(list_ratings_each_user).ravel()\n",
    "p_list_ratings_original = p_list_ratings.tolist()\n",
    "mean_ratings_train = np.mean(p_list_ratings)\n",
    "p_list_ratings =  p_list_ratings - mean_ratings_train # remove the mean\n",
    "p_list_movies = np.concatenate(list_movies_each_user).ravel().tolist()\n",
    "p_list_users = list_users.tolist()\n",
    "Y = pd.DataFrame({'users': p_list_users, 'movies': p_list_movies, 'ratingsorig': p_list_ratings_original,'ratings':p_list_ratings.tolist()})\n",
    "\n",
    "#print(Y_with_NaNs)\n",
    "#print(Y)"
   ]
  },
  {
   "cell_type": "markdown",
   "metadata": {},
   "source": [
    "### Assignment Question 3\n",
    "\n",
    "The dataframes `Y_with_NaNs` and `Y` contain the same information but organised in a different way. Explain what is the difference. We have also included two columns for ratings in dataframe `Y`, `ratingsorig` and `ratings`. Explain\n",
    "the difference. \n",
    "\n",
    "*10 marks*"
   ]
  },
  {
   "cell_type": "markdown",
   "metadata": {},
   "source": [
    "#### Question 3 Answer\n",
    "\n",
    "The dataframe `Y_with_NaNs` contains 10 columns, one for each user. Each row of this dataframe represents a movie, so the values that exist in each row represent the rating of each user for the specific movie.\n",
    "The dataframe `Y` contains a row for each movie that a user has seen, that means many rows correspond to one movie, since a movie might have be seen by multiple users. \n",
    "\n",
    "The dataframe `Y_with_NaNs` containts the rating of each user for every movie that is in the dataset, even if the user hasn't rated all of these movies. In that case the value that is used to represent that a user hasn't rated a movie is the value \"NaN\". On the other hand, the dataframe `Y` contains the ratings of every user only for the movies that he/she has rated, so in this dataframe there are no \"NaN\" values.  \n",
    "\n",
    "`ratingsorig`: represents the original rating that the user has given to a movie.\n",
    "`ratings`: represents the deviation of the rating that the user has given to a movie, from the mean rating of the specific movie. This value will be positive if the rating is greater that the average rating, zero if it is equal to the average rating and negative otherwise. This is done to normalize the ratings."
   ]
  },
  {
   "cell_type": "markdown",
   "metadata": {},
   "source": [
    "## Measuring Similarity\n",
    "\n",
    "We now need a measure for determining the similarity between the item and the user: how close the user is sitting to the item in the rooom if you like. We are going to use the inner product between the vector representing the item and the vector representing the user. \n",
    "\n",
    "An inner product (or [dot product](http://en.wikipedia.org/wiki/Dot_product)) between two vectors $\\mathbf{a}$ and $\\mathbf{b}$ is written as $\\mathbf{a}\\cdot\\mathbf{b}$. Or in vector notation we sometimes write it as $\\mathbf{a}^\\top\\mathbf{b}$. An inner product is simply the sume of the products of each element of the vector,\n",
    "$$\n",
    "\\mathbf{a}^\\top\\mathbf{b} = \\sum_{i} a_i b_i\n",
    "$$\n",
    "The inner product can be seen as a measure of similarity. The inner product gives us the cosine of the angle between the two vectors multiplied by their length. The smaller the angle between two vectors the larger the inner product. \n",
    "$$\n",
    "\\mathbf{a}^\\top\\mathbf{b} = |\\mathbf{a}||\\mathbf{b}| \\cos(\\theta)\n",
    "$$\n",
    "where $\\theta$ is the angle between two vectors and $|\\mathbf{a}|$ and $|\\mathbf{b}|$ are the respective lengths of the two vectors.\n",
    "\n",
    "Since we want each user to be sitting near each item, then we want the inner product to be large for any two items which are rated highly by that user. We can do this by trying to force the inner product $\\mathbf{u}_i^\\top\\mathbf{v}_j$ to be similar to the rating given by the user, $y_{i,j}$. To ensure this we will use a least squares objective function for all user ratings."
   ]
  },
  {
   "cell_type": "markdown",
   "metadata": {},
   "source": [
    "## Objective Function\n",
    "\n",
    "The error function (or objective function, or cost function) we will choose is known as 'sum of squares', we will aim to minimize the sum of squared squared error between the inner product of $\\mathbf{u}_i$ and $\\mathbf{v}_i$ and the observed score for the user/item pairing, given by $y_{i, j}$. \n",
    "\n",
    "The total objective function can be written as\n",
    "$$\n",
    "E(\\mathbf{U}, \\mathbf{V}) = \\sum_{i,j} s_{i,j} (y_{i,j} - \\mathbf{u}_i^\\top \\mathbf{v}_j)^2\n",
    "$$\n",
    "where $s_{i,j}$ is an *indicator* variable that is 1 if user $i$ has rated item $j$ and is zero otherwise. Here $\\mathbf{U}$ is the matrix made up of all the vectors $\\mathbf{u}$,\n",
    "$$\n",
    "\\mathbf{U} = \\begin{bmatrix} \\mathbf{u}_1 \\dots \\mathbf{u}_n\\end{bmatrix}^\\top\n",
    "$$\n",
    "where we note that $i$th *row* of $\\mathbf{U}$ contains the vector associated with the $i$th user and $n$ is the total number of users. This form of matrix is known as a *design matrix*. Similarly, we define the matrix\n",
    "$$\n",
    "\\mathbf{V} = \\begin{bmatrix} \\mathbf{v}_1 \\dots \\mathbf{v}_m\\end{bmatrix}^\\top\n",
    "$$\n",
    "where again the $j$th row of $\\mathbf{V}$ contains the vector associated with the $j$th item and $m$ is the total number of items in the data set.\n",
    "\n",
    "## Objective Optimization\n",
    "\n",
    "The idea is to mimimize this objective. A standard, simple, technique for minimizing an objective is *gradient descent* or *steepest descent*. In gradient descent we simply choose to update each parameter in the model by subtracting a multiple of the objective function's gradient with respect to the parameters. So for a parameter $u_{i,j}$ from the matrix $\\mathbf{U}$ we would have an update as follows:\n",
    "$$\n",
    "u_{k,\\ell} \\leftarrow u_{k,\\ell} - \\eta \\frac{\\text{d} E(\\mathbf{U}, \\mathbf{V})}{\\text{d}u_{k,\\ell}} \n",
    "$$\n",
    "where $\\eta$ (which is pronounced *eta* in English) is a Greek letter representing the *learning rate*.  \n",
    "\n",
    "We can compute the gradient of the objective function with respect to $u_{k,\\ell}$ as\n",
    "$$\n",
    "\\frac{\\text{d}E(\\mathbf{U}, \\mathbf{V})}{\\text{d}u_{k,\\ell}} = -2 \\sum_j s_{k,j}v_{j,\\ell}(y_{k, j} - \\mathbf{u}_k^\\top\\mathbf{v}_{j}). \n",
    "$$\n",
    "Similarly each parameter $v_{i,j}$ needs to be updated according to its gradient. \n"
   ]
  },
  {
   "cell_type": "markdown",
   "metadata": {},
   "source": [
    "### Assignment Question 4\n",
    "\n",
    "What is the gradient of the objective function with respect to $v_{k, \\ell}$? Write your answer in the box below, and explain which differentiation techniques you used to get there. You will be expected to justify your answer in class by oral questioning. \n",
    "\n",
    "*15 marks*"
   ]
  },
  {
   "cell_type": "markdown",
   "metadata": {},
   "source": [
    "#### Question 4 Answer\n",
    "The gradient of the objective function with respect to $v_{k,\\ell}$ is\n",
    "$$\n",
    "\\frac{\\text{d}E(\\mathbf{U}, \\mathbf{V})}{\\text{d}v_{k,\\ell}} = -2 \\sum_i s_{i,k}u_{i,l}(y_{i, k} - \\mathbf{u}_i^\\top\\mathbf{v}_{k}). \n",
    "$$\n",
    "\n",
    "Firstly we notice that the parameter $v_{k,l}$ appears only in the terms of the sum where $j=k$. So we are just differentiating $\\sum_i s_{i,k} (y_{i,k} - \\mathbf{u}_i^\\top \\mathbf{v}_k)^2$, which is basically the differentiation of $(y_{i,k} - \\mathbf{u}_i^\\top \\mathbf{v}_k)^2$ for each term in the sum. The gradient of this term is the gradient of the quadratic, multiplied to the gradient with respect to $v_{k,\\ell}$ of the part inside the quadratic. The gradient of the quadratic is two times the argument of the quadratic, and the gradient of the inside term is minus one multiplied by $u_{i,\\ell}$, since only this term contains the $v_{k,\\ell}$. This true for all the terms in the sum $\\sum_i$, so we are left with the sum in the gradient."
   ]
  },
  {
   "cell_type": "markdown",
   "metadata": {},
   "source": [
    "## Steepest Descent Algorithm\n",
    "\n",
    "In the steepest descent algorithm we aim to minimize the objective function by subtacting the gradient of the objective function from the parameters. \n",
    "\n",
    "### Initialisation\n",
    "\n",
    "To start with though, we need initial values for the matrix $\\mathbf{U}$ and the matrix $\\mathbf{V}$. Let's create them as `pandas` data frames and initialise them randomly with small values."
   ]
  },
  {
   "cell_type": "code",
   "execution_count": 4,
   "metadata": {},
   "outputs": [],
   "source": [
    "q = 2 # the dimension of our map of the 'library'\n",
    "learn_rate = 0.01\n",
    "U = pd.DataFrame(np.random.normal(size=(nUsersInExample, q))*0.001, index=my_batch_users)\n",
    "V = pd.DataFrame(np.random.normal(size=(n_movies, q))*0.001, index=indexes_unique_movies)"
   ]
  },
  {
   "cell_type": "markdown",
   "metadata": {},
   "source": [
    "Now that we have the initial values set, we can start the optimization. First we define a function for the gradient of the objective and the objective function itself."
   ]
  },
  {
   "cell_type": "code",
   "execution_count": 5,
   "metadata": {},
   "outputs": [],
   "source": [
    "def objective_gradient(Y, U, V):\n",
    "    gU = pd.DataFrame(np.zeros((U.shape)), index=U.index)\n",
    "    gV = pd.DataFrame(np.zeros((V.shape)), index=V.index)\n",
    "    obj = 0.\n",
    "    nrows = Y.shape[0]\n",
    "    for i in range(nrows):\n",
    "        row = Y.iloc[i]\n",
    "        user = row['users']\n",
    "        film = row['movies']\n",
    "        rating = row['ratings']\n",
    "        prediction = np.dot(U.loc[user], V.loc[film]) # vTu\n",
    "        diff = prediction - rating # vTu - y\n",
    "        obj += diff*diff\n",
    "        gU.loc[user] += 2*diff*V.loc[film]\n",
    "        gV.loc[film] += 2*diff*U.loc[user]\n",
    "    return obj, gU, gV"
   ]
  },
  {
   "cell_type": "markdown",
   "metadata": {},
   "source": [
    "Now we can write our simple optimisation route. This allows us to observe the objective function as the optimization proceeds."
   ]
  },
  {
   "cell_type": "code",
   "execution_count": 23,
   "metadata": {},
   "outputs": [
    {
     "name": "stdout",
     "output_type": "stream",
     "text": [
      "Iteration 0 Objective function:  1807.9958370140457\n",
      "Iteration 1 Objective function:  1807.9955364332832\n",
      "Iteration 2 Objective function:  1807.9950669964476\n",
      "Iteration 3 Objective function:  1807.994038709095\n",
      "Iteration 4 Objective function:  1807.9915482043389\n",
      "Iteration 5 Objective function:  1807.9852773375776\n",
      "Iteration 6 Objective function:  1807.9691982179304\n",
      "Iteration 7 Objective function:  1807.927577676434\n",
      "Iteration 8 Objective function:  1807.819282373486\n",
      "Iteration 9 Objective function:  1807.5366918337565\n",
      "Iteration 10 Objective function:  1806.798238991014\n",
      "Iteration 11 Objective function:  1804.8681767217217\n",
      "Iteration 12 Objective function:  1799.8315765474176\n",
      "Iteration 13 Objective function:  1786.7584118516847\n",
      "Iteration 14 Objective function:  1753.3218345601426\n",
      "Iteration 15 Objective function:  1671.0710008421513\n",
      "Iteration 16 Objective function:  1488.2843499968421\n",
      "Iteration 17 Objective function:  1175.3449730562781\n",
      "Iteration 18 Objective function:  895.2794207199258\n",
      "Iteration 19 Objective function:  839.5724465587983\n"
     ]
    }
   ],
   "source": [
    "iterations = 20\n",
    "for i in range(iterations):\n",
    "    obj, gU, gV = objective_gradient(Y, U, V)\n",
    "    print(\"Iteration\", i, \"Objective function: \", obj)\n",
    "    U -= learn_rate*gU\n",
    "    V -= learn_rate*gV    "
   ]
  },
  {
   "cell_type": "markdown",
   "metadata": {},
   "source": [
    "### Assignment Question 5\n",
    "\n",
    "What happens as you increase the number of iterations? What happens if you increase the learning rate?\n",
    "\n",
    "*10 marks*"
   ]
  },
  {
   "cell_type": "markdown",
   "metadata": {},
   "source": [
    "#### Question 5 Answer\n",
    "\n",
    "When the number of iterations increases and the learning rate remains 0.01 (which is small), the value of the objective function decreases. We notice that the objective function converges to the minimun of the objective function.\n",
    "On the other hand if we increase the learning rate, we notice that the value of the objective function could decrease more in a certain amount of iterations, but we also notice that our system becomes unstable. That means that if we increase the learning rate too much then the objective function takes really big values, and it ends up being infinite."
   ]
  },
  {
   "cell_type": "code",
   "execution_count": 12,
   "metadata": {},
   "outputs": [
    {
     "data": {
      "image/png": "[encoded data removed]",
      "text/plain": [
       "<Figure size 432x288 with 1 Axes>"
      ]
     },
     "metadata": {},
     "output_type": "display_data"
    },
    {
     "data": {
      "image/png": "[encoded data removed]",
      "text/plain": [
       "<Figure size 432x288 with 1 Axes>"
      ]
     },
     "metadata": {},
     "output_type": "display_data"
    }
   ],
   "source": [
    "# Question 5 Code Answer\n",
    "\n",
    "def training_print(iteration, learning_rate):\n",
    "    U = pd.DataFrame(np.random.normal(size=(nUsersInExample, q))*0.001, index=my_batch_users)\n",
    "    V = pd.DataFrame(np.random.normal(size=(n_movies, q))*0.001, index=indexes_unique_movies)\n",
    "    obj_list=[]\n",
    "    for i in range(iteration):\n",
    "        obj, gU, gV = objective_gradient(Y, U, V)\n",
    "        #print(\"Iteration\", i, \"Objective function: \", obj)\n",
    "        U -= learning_rate*gU\n",
    "        V -= learning_rate*gV\n",
    "        obj_list.append(obj)\n",
    "    plt.plot(obj_list)  \n",
    "    plt.show()\n",
    "    return U, V\n",
    "\n",
    "\n",
    "iterations = 40\n",
    "learn_rate = 0.01\n",
    "U, V = training_print(iterations, learn_rate) \n",
    "    \n",
    "iterations = 20\n",
    "learn_rate = 0.03\n",
    "U, V = training_print(iterations, learn_rate)   "
   ]
  },
  {
   "cell_type": "markdown",
   "metadata": {},
   "source": [
    "## Making Predictions\n",
    "\n",
    "Predictions can be made from the model of the appropriate rating for a given user, $i$, for a given film, $j$, by simply taking the inner product between their vectors $\\mathbf{u}_i$ and $\\mathbf{v}_j$. "
   ]
  },
  {
   "cell_type": "markdown",
   "metadata": {},
   "source": [
    "### Assignment Question 6\n",
    "\n",
    "Create a function that provides the prediction of the ratings for the users in the dataset. Is the quality of the predictions affected by the number of iterations or the learning rate? The function should receive `Y`, `U` and `V` and return the predictions and the absolute error between the predictions and the actual rating given by the users. The predictions and the absolute error should be added as additional columns to the dataframe `Y`.\n",
    "\n",
    "*15 marks*"
   ]
  },
  {
   "cell_type": "code",
   "execution_count": 7,
   "metadata": {},
   "outputs": [
    {
     "name": "stdout",
     "output_type": "stream",
     "text": [
      "Predictions after training our model with number of iterations = 20 and learning rate = 0.01\n",
      "      users  movies  ratingsorig   ratings  prediction  absolute error\n",
      "0     558.0      94          3.0 -0.312118   -0.000143        0.311975\n",
      "1     558.0     223          4.0  0.687882    0.008855        0.679027\n",
      "2     558.0     296          3.0 -0.312118   -0.013228        0.298890\n",
      "3     558.0     367          3.0 -0.312118    0.003349        0.315467\n",
      "4     558.0     555          3.0 -0.312118   -0.000027        0.312090\n",
      "5     558.0     593          4.0  0.687882   -0.005947        0.693830\n",
      "6     558.0     597          5.0  1.687882    0.000307        1.687576\n",
      "7     558.0     662          5.0  1.687882    0.025122        1.662760\n",
      "8     558.0    1043          2.0 -1.312118   -0.000281        1.311836\n",
      "9     558.0    1073          5.0  1.687882   -0.018003        1.705886\n",
      "10    558.0    1097          4.0  0.687882    0.015354        0.672528\n",
      "11    558.0    1222          5.0  1.687882    0.000379        1.687503\n",
      "12    558.0    1259          4.0  0.687882    0.004581        0.683301\n",
      "13    558.0    1721          4.0  0.687882    0.003657        0.684225\n",
      "14    558.0    1798          3.0 -0.312118   -0.000137        0.311981\n",
      "15    558.0    1923          4.0  0.687882    0.003494        0.684388\n",
      "16    558.0    1968          5.0  1.687882    0.002037        1.685845\n",
      "17    558.0    2028          4.0  0.687882    0.001940        0.685942\n",
      "18    558.0    2297          5.0  1.687882   -0.001742        1.689624\n",
      "19    558.0    2568          5.0  1.687882    0.000480        1.687402\n",
      "20    558.0    2987          4.0  0.687882    0.003450        0.684432\n",
      "21    558.0    3052          1.0 -2.312118   -0.002365        2.309753\n",
      "22    558.0    3186          5.0  1.687882   -0.007147        1.695029\n",
      "23    558.0    3274          4.0  0.687882   -0.001914        0.689796\n",
      "24    558.0    3285          4.0  0.687882    0.000187        0.687695\n",
      "25    558.0    3479          3.0 -0.312118   -0.000033        0.312085\n",
      "26    558.0    3534          4.0  0.687882    0.000185        0.687698\n",
      "27    558.0    3824          5.0  1.687882    0.000445        1.687437\n",
      "28    558.0    3825          4.0  0.687882    0.025041        0.662841\n",
      "29    558.0    3831          5.0  1.687882    0.000482        1.687400\n",
      "...     ...     ...          ...       ...         ...             ...\n",
      "1769  537.0   45722          5.0  1.687882   -0.003365        1.691247\n",
      "1770  537.0   48516          4.5  1.187882    0.000050        1.187833\n",
      "1771  537.0   53125          5.0  1.687882   -0.003366        1.691248\n",
      "1772  537.0   53322          5.0  1.687882    0.011641        1.676241\n",
      "1773  537.0   55765          5.0  1.687882    0.000109        1.687773\n",
      "1774  537.0   55946          5.0  1.687882    0.000113        1.687770\n",
      "1775  537.0   58295          5.0  1.687882    0.000176        1.687706\n",
      "1776  537.0   58559          3.5  0.187882   -0.000956        0.188838\n",
      "1777  537.0   69122          4.0  0.687882    0.001054        0.686828\n",
      "1778  537.0   69481          3.5  0.187882    0.000021        0.187861\n",
      "1779  537.0   69844          4.0  0.687882    0.000048        0.687834\n",
      "1780  537.0   72998          5.0  1.687882    0.000057        1.687825\n",
      "1781  537.0   79132          5.0  1.687882    0.000024        1.687858\n",
      "1782  537.0   80463          4.0  0.687882    0.000077        0.687805\n",
      "1783  537.0   80906          5.0  1.687882    0.000144        1.687738\n",
      "1784  537.0   82053          5.0  1.687882    0.000175        1.687707\n",
      "1785  537.0   86911          3.5  0.187882    0.000003        0.187880\n",
      "1786  537.0   89745          1.5 -1.812118   -0.000690        1.811428\n",
      "1787  537.0   90439          5.0  1.687882    0.000193        1.687689\n",
      "1788  537.0   95067          3.0 -0.312118   -0.000010        0.312108\n",
      "1789  537.0   97304          4.5  1.187882    0.000138        1.187744\n",
      "1790  537.0   97306          2.5 -0.812118   -0.000071        0.812047\n",
      "1791  537.0   98961          4.0  0.687882    0.000077        0.687805\n",
      "1792  537.0   99114          4.5  1.187882   -0.000234        1.188116\n",
      "1793  537.0  103341          0.5 -2.812118   -0.000213        2.811905\n",
      "1794  537.0  104218          3.5  0.187882    0.000015        0.187867\n",
      "1795  537.0  104841          3.0 -0.312118    0.000319        0.312437\n",
      "1796  537.0  105504          5.0  1.687882    0.000112        1.687770\n",
      "1797  537.0  106782          5.0  1.687882    0.000098        1.687784\n",
      "1798  537.0  121129          2.5 -0.812118   -0.000117        0.812001\n",
      "\n",
      "[1799 rows x 6 columns]\n",
      "Predictions after training our model with number of iterations = 40 and learning rate = 0.01\n",
      "      users  movies  ratingsorig   ratings  prediction  absolute error\n",
      "0     558.0      94          3.0 -0.312118   -0.054818        0.257300\n",
      "1     558.0     223          4.0  0.687882    0.199614        0.488268\n",
      "2     558.0     296          3.0 -0.312118   -0.218355        0.093763\n",
      "3     558.0     367          3.0 -0.312118    0.054092        0.366210\n",
      "4     558.0     555          3.0 -0.312118   -0.054591        0.257527\n",
      "5     558.0     593          4.0  0.687882    0.134095        0.553787\n",
      "6     558.0     597          5.0  1.687882    0.242316        1.445566\n",
      "7     558.0     662          5.0  1.687882    0.557793        1.130089\n",
      "8     558.0    1043          2.0 -1.312118   -0.227798        1.084320\n",
      "9     558.0    1073          5.0  1.687882   -0.264064        1.951947\n",
      "10    558.0    1097          4.0  0.687882    0.379220        0.308663\n",
      "11    558.0    1222          5.0  1.687882    0.291745        1.396137\n",
      "12    558.0    1259          4.0  0.687882    0.237514        0.450368\n",
      "13    558.0    1721          4.0  0.687882    0.184680        0.503202\n",
      "14    558.0    1798          3.0 -0.312118   -0.055664        0.256454\n",
      "15    558.0    1923          4.0  0.687882    0.093580        0.594303\n",
      "16    558.0    1968          5.0  1.687882    0.615981        1.071901\n",
      "17    558.0    2028          4.0  0.687882    0.521178        0.166704\n",
      "18    558.0    2297          5.0  1.687882    0.026994        1.660888\n",
      "19    558.0    2568          5.0  1.687882    0.291977        1.395906\n",
      "20    558.0    2987          4.0  0.687882    0.093495        0.594387\n",
      "21    558.0    3052          1.0 -2.312118   -0.131487        2.180631\n",
      "22    558.0    3186          5.0  1.687882   -0.078877        1.766759\n",
      "23    558.0    3274          4.0  0.687882   -0.012758        0.700640\n",
      "24    558.0    3285          4.0  0.687882    0.120360        0.567522\n",
      "25    558.0    3479          3.0 -0.312118   -0.056211        0.255907\n",
      "26    558.0    3534          4.0  0.687882    0.119243        0.568639\n",
      "27    558.0    3824          5.0  1.687882    0.291506        1.396376\n",
      "28    558.0    3825          4.0  0.687882    0.518270        0.169612\n",
      "29    558.0    3831          5.0  1.687882    0.292260        1.395622\n",
      "...     ...     ...          ...       ...         ...             ...\n",
      "1769  537.0   45722          5.0  1.687882   -0.055560        1.743442\n",
      "1770  537.0   48516          4.5  1.187882    0.039704        1.148179\n",
      "1771  537.0   53125          5.0  1.687882   -0.055467        1.743349\n",
      "1772  537.0   53322          5.0  1.687882    0.240752        1.447130\n",
      "1773  537.0   55765          5.0  1.687882    0.056356        1.631526\n",
      "1774  537.0   55946          5.0  1.687882    0.056330        1.631552\n",
      "1775  537.0   58295          5.0  1.687882    0.056133        1.631749\n",
      "1776  537.0   58559          3.5  0.187882   -0.016097        0.203979\n",
      "1777  537.0   69122          4.0  0.687882    0.314400        0.373482\n",
      "1778  537.0   69481          3.5  0.187882    0.006975        0.180907\n",
      "1779  537.0   69844          4.0  0.687882    0.022601        0.665281\n",
      "1780  537.0   72998          5.0  1.687882    0.057250        1.630632\n",
      "1781  537.0   79132          5.0  1.687882    0.011386        1.676497\n",
      "1782  537.0   80463          4.0  0.687882    0.022805        0.665077\n",
      "1783  537.0   80906          5.0  1.687882    0.057891        1.629991\n",
      "1784  537.0   82053          5.0  1.687882    0.056789        1.631093\n",
      "1785  537.0   86911          3.5  0.187882    0.007178        0.180704\n",
      "1786  537.0   89745          1.5 -1.812118   -0.192335        1.619783\n",
      "1787  537.0   90439          5.0  1.687882    0.056255        1.631627\n",
      "1788  537.0   95067          3.0 -0.312118   -0.009988        0.302130\n",
      "1789  537.0   97304          4.5  1.187882    0.039778        1.148104\n",
      "1790  537.0   97306          2.5 -0.812118   -0.027493        0.784625\n",
      "1791  537.0   98961          4.0  0.687882    0.023259        0.664623\n",
      "1792  537.0   99114          4.5  1.187882   -0.064057        1.251939\n",
      "1793  537.0  103341          0.5 -2.812118   -0.095272        2.716846\n",
      "1794  537.0  104218          3.5  0.187882    0.005872        0.182010\n",
      "1795  537.0  104841          3.0 -0.312118    0.099016        0.411133\n",
      "1796  537.0  105504          5.0  1.687882    0.056169        1.631713\n",
      "1797  537.0  106782          5.0  1.687882    0.056427        1.631455\n",
      "1798  537.0  121129          2.5 -0.812118   -0.027409        0.784709\n",
      "\n",
      "[1799 rows x 6 columns]\n"
     ]
    },
    {
     "name": "stdout",
     "output_type": "stream",
     "text": [
      "Predictions after training our model with number of iterations = 20 and learning rate = 0.03\n",
      "      users  movies  ratingsorig   ratings  prediction  absolute error\n",
      "0     558.0      94          3.0 -0.312118   -0.239840        0.072278\n",
      "1     558.0     223          4.0  0.687882    0.219112        0.468770\n",
      "2     558.0     296          3.0 -0.312118   -0.309195        0.002923\n",
      "3     558.0     367          3.0 -0.312118   -0.275520        0.036598\n",
      "4     558.0     555          3.0 -0.312118   -0.242035        0.070083\n",
      "5     558.0     593          4.0  0.687882    1.589239        0.901357\n",
      "6     558.0     597          5.0  1.687882    1.164269        0.523613\n",
      "7     558.0     662          5.0  1.687882    0.443318        1.244564\n",
      "8     558.0    1043          2.0 -1.312118   -1.013946        0.298172\n",
      "9     558.0    1073          5.0  1.687882    0.540822        1.147061\n",
      "10    558.0    1097          4.0  0.687882    0.973083        0.285201\n",
      "11    558.0    1222          5.0  1.687882    1.306197        0.381686\n",
      "12    558.0    1259          4.0  0.687882    1.258569        0.570687\n",
      "13    558.0    1721          4.0  0.687882    1.110941        0.423059\n",
      "14    558.0    1798          3.0 -0.312118   -0.239077        0.073041\n",
      "15    558.0    1923          4.0  0.687882    0.368744        0.319139\n",
      "16    558.0    1968          5.0  1.687882    1.588504        0.099378\n",
      "17    558.0    2028          4.0  0.687882    0.934589        0.246707\n",
      "18    558.0    2297          5.0  1.687882    1.186669        0.501213\n",
      "19    558.0    2568          5.0  1.687882    1.305118        0.382764\n",
      "20    558.0    2987          4.0  0.687882    0.367824        0.320058\n",
      "21    558.0    3052          1.0 -2.312118   -1.494960        0.817158\n",
      "22    558.0    3186          5.0  1.687882    1.338124        0.349758\n",
      "23    558.0    3274          4.0  0.687882    0.518760        0.169123\n",
      "24    558.0    3285          4.0  0.687882    0.530540        0.157342\n",
      "25    558.0    3479          3.0 -0.312118   -0.240825        0.071293\n",
      "26    558.0    3534          4.0  0.687882    0.530330        0.157553\n",
      "27    558.0    3824          5.0  1.687882    1.304066        0.383816\n",
      "28    558.0    3825          4.0  0.687882   -0.227369        0.915251\n",
      "29    558.0    3831          5.0  1.687882    1.307115        0.380767\n",
      "...     ...     ...          ...       ...         ...             ...\n",
      "1769  537.0   45722          5.0  1.687882    1.066592        0.621290\n",
      "1770  537.0   48516          4.5  1.187882    1.113701        0.074181\n",
      "1771  537.0   53125          5.0  1.687882    1.066574        0.621308\n",
      "1772  537.0   53322          5.0  1.687882   -0.056387        1.744269\n",
      "1773  537.0   55765          5.0  1.687882    1.582622        0.105260\n",
      "1774  537.0   55946          5.0  1.687882    1.582958        0.104925\n",
      "1775  537.0   58295          5.0  1.687882    1.584147        0.103735\n",
      "1776  537.0   58559          3.5  0.187882    0.220463        0.032581\n",
      "1777  537.0   69122          4.0  0.687882    0.319185        0.368697\n",
      "1778  537.0   69481          3.5  0.187882    0.176195        0.011687\n",
      "1779  537.0   69844          4.0  0.687882    0.644674        0.043208\n",
      "1780  537.0   72998          5.0  1.687882    1.582003        0.105879\n",
      "1781  537.0   79132          5.0  1.687882    1.233712        0.454170\n",
      "1782  537.0   80463          4.0  0.687882    0.645224        0.042658\n",
      "1783  537.0   80906          5.0  1.687882    1.582979        0.104903\n",
      "1784  537.0   82053          5.0  1.687882    1.581459        0.106423\n",
      "1785  537.0   86911          3.5  0.187882    0.175877        0.012005\n",
      "1786  537.0   89745          1.5 -1.812118   -1.216980        0.595138\n",
      "1787  537.0   90439          5.0  1.687882    1.581897        0.105985\n",
      "1788  537.0   95067          3.0 -0.312118   -0.293605        0.018513\n",
      "1789  537.0   97304          4.5  1.187882    1.112151        0.075731\n",
      "1790  537.0   97306          2.5 -0.812118   -0.761465        0.050653\n",
      "1791  537.0   98961          4.0  0.687882    0.645331        0.042552\n",
      "1792  537.0   99114          4.5  1.187882    0.909691        0.278191\n",
      "1793  537.0  103341          0.5 -2.812118   -2.636401        0.175717\n",
      "1794  537.0  104218          3.5  0.187882    0.177135        0.010747\n",
      "1795  537.0  104841          3.0 -0.312118   -0.288116        0.024002\n",
      "1796  537.0  105504          5.0  1.687882    1.582683        0.105199\n",
      "1797  537.0  106782          5.0  1.687882    1.583431        0.104451\n",
      "1798  537.0  121129          2.5 -0.812118   -0.761540        0.050577\n",
      "\n",
      "[1799 rows x 6 columns]\n"
     ]
    }
   ],
   "source": [
    "# Question 6 Code Answer\n",
    "\n",
    "def training(iteration, learning_rate):\n",
    "    U = pd.DataFrame(np.random.normal(size=(nUsersInExample, q))*0.001, index=my_batch_users)\n",
    "    V = pd.DataFrame(np.random.normal(size=(n_movies, q))*0.001, index=indexes_unique_movies)\n",
    "    for i in range(iteration):\n",
    "        obj, gU, gV = objective_gradient(Y, U, V)\n",
    "        U -= learning_rate*gU\n",
    "        V -= learning_rate*gV  \n",
    "    return U, V\n",
    "\n",
    "def predictions(Y,U,V):\n",
    "    nrows = Y.shape[0]\n",
    "    pred_list = []\n",
    "    abs_list = []\n",
    "    for i in range(nrows):\n",
    "        row = Y.iloc[i]\n",
    "        user = row['users']\n",
    "        film = row['movies']\n",
    "        rating = row['ratings']\n",
    "        prediction = np.dot(U.loc[user], V.loc[film]) # vTu\n",
    "        abs_error = abs(prediction-rating)\n",
    "        pred_list.append(prediction)\n",
    "        abs_list.append(abs_error)\n",
    "    Y['prediction']=pred_list \n",
    "    Y['absolute error']=abs_list\n",
    "    return Y\n",
    "\n",
    "\n",
    "U, V = training(20, 0.01)\n",
    "Y = predictions(Y,U,V)\n",
    "print(\"Predictions after training our model with number of iterations = 20 and learning rate = 0.01\")\n",
    "print(Y)\n",
    "U, V = training(40, 0.01)\n",
    "Y = predictions(Y,U,V)\n",
    "print(\"Predictions after training our model with number of iterations = 40 and learning rate = 0.01\")\n",
    "print(Y)\n",
    "U, V = training(20, 0.03)\n",
    "Y = predictions(Y,U,V)\n",
    "print(\"Predictions after training our model with number of iterations = 20 and learning rate = 0.03\")\n",
    "print(Y)"
   ]
  },
  {
   "cell_type": "markdown",
   "metadata": {},
   "source": [
    "Likewise before, we notice that when we increase the number of iterations, the absolute error decreases, whereas when we increase the learning rate the absolute error in some ratings decreases while in others it increases. So, we understand that the quality of the predictions is affected by the number of iterations and the learning rate."
   ]
  },
  {
   "cell_type": "markdown",
   "metadata": {},
   "source": [
    "## Stochastic Gradient Descent or Robbins Monroe Algorithm\n",
    "\n",
    "Stochastic gradient descent involves updating separating each gradient update according to each separate observation, rather than summing over them all. It is an approximate optimization method, but it has proven convergence under certain conditions and can be much faster in practice. It is used widely by internet companies for doing machine learning in practice. For example, Facebook's ad ranking algorithm uses stochastic gradient descent. "
   ]
  },
  {
   "cell_type": "markdown",
   "metadata": {},
   "source": [
    "### Assignment Question 7\n",
    "\n",
    "Create a stochastic gradient descent version of the algorithm. Monitor the objective function after every 1000 updates to ensure that it is decreasing. When you have finished, plot the movie map and the user map in two dimensions (you can use the columns of the matrices $\\mathbf{U}$ for the user map and the columns of $\\mathbf{V}$ for the movie map). Provide three observations about these maps.\n",
    "\n",
    "*25 marks*"
   ]
  },
  {
   "cell_type": "code",
   "execution_count": 46,
   "metadata": {},
   "outputs": [],
   "source": [
    "# Question 7 Code Answer\n",
    "import random\n",
    "\n",
    "def calculate_obj(Y,U,V):\n",
    "    obj = 0.\n",
    "    for j in range(Y.shape[0]):\n",
    "        row = Y.iloc[j]\n",
    "        user = row['users']\n",
    "        film = row['movies']\n",
    "        rating = row['ratings']\n",
    "        prediction = np.dot(U.loc[user], V.loc[film]) # vTu\n",
    "        diff = prediction - rating # vTu - y\n",
    "        obj += diff*diff\n",
    "\n",
    "    return obj\n",
    "\n",
    "\n",
    "\n",
    "def training_stochastic(iteration, learning_rate, sample_size, print_n):\n",
    "    U = pd.DataFrame(np.random.normal(size=(nUsersInExample, q))*0.001, index=my_batch_users)\n",
    "    V = pd.DataFrame(np.random.normal(size=(n_movies, q))*0.001, index=indexes_unique_movies)\n",
    "\n",
    "\n",
    "    for i in range(iteration):\n",
    "        Y_sample = Y.sample(sample_size)#random sample of Y\n",
    "        #print(s)           \n",
    "        gU = pd.DataFrame(np.zeros((U.shape)), index=U.index)\n",
    "        gV = pd.DataFrame(np.zeros((V.shape)), index=V.index)\n",
    "        for j in range(sample_size):\n",
    "            row = Y_sample.iloc[j]\n",
    "            user = row['users']\n",
    "            film = row['movies']\n",
    "            rating = row['ratings']\n",
    "            prediction = np.dot(U.loc[user], V.loc[film]) # vTu\n",
    "            diff = prediction - rating # vTu - y\n",
    "            gU.loc[user] += 2*diff*V.loc[film]\n",
    "            gV.loc[film] += 2*diff*U.loc[user]\n",
    "\n",
    "        U -= learning_rate*gU\n",
    "        V -= learning_rate*gV\n",
    "        \n",
    "        '''if(i==0):\n",
    "            oldObj = calculate_obj(Y,U,V)\n",
    "            \n",
    "        \n",
    "        if (i+1) % 1000 == 0:\n",
    "            obj = calculate_obj(Y,U,V)\n",
    "            print(\"Update\", i+1, \"Objective function: \", obj)\n",
    "            if(oldObj<obj):\n",
    "                break\n",
    "            else:\n",
    "                oldObj = obj\n",
    "             '''   \n",
    "            \n",
    "    return U, V\n",
    "\n",
    "#U, V = training_stochastic(100000,0.01,1,1000)\n",
    "#obj = calculate_obj(Y,U,V)\n",
    "#print(\"Update\", i+1, \"Objective function: \", obj)\n",
    "\n",
    "\n"
   ]
  },
  {
   "cell_type": "code",
   "execution_count": 39,
   "metadata": {},
   "outputs": [
    {
     "data": {
      "text/plain": [
       "<matplotlib.legend.Legend at 0xb21bd7e48>"
      ]
     },
     "execution_count": 39,
     "metadata": {},
     "output_type": "execute_result"
    },
    {
     "data": {
      "image/png": "[encoded data removed]",
      "text/plain": [
       "<Figure size 432x288 with 1 Axes>"
      ]
     },
     "metadata": {},
     "output_type": "display_data"
    }
   ],
   "source": [
    "plt.plot(V[0], V[1], 'rx', label = 'Movies')\n",
    "plt.plot(U[0], U[1], 'bx', label = 'Users')\n",
    "plt.legend()"
   ]
  },
  {
   "cell_type": "markdown",
   "metadata": {},
   "source": [
    "In this figure, we can see the distances between the users and the movies. As the distance between those two decreases, the probability of recommending the movie to user increases. We notice that some users are really close to the movies, which means that probably they have rated more movies, and maybe they rated the movies with the best ratings. On the other hand we notice that some users are away from the movies, and probably this means that these users have not rated many movies, so our system cannot recommend them new movies properly. So our system would recommend them the movies that are closer to them, even if the distance is big."
   ]
  },
  {
   "cell_type": "markdown",
   "metadata": {},
   "source": [
    "## Is Our Map Enough? Are Our Data Enough?\n",
    "\n",
    "Is two dimensions really enough to capture the complexity of humans and their artforms? Perhaps we need even more dimensions to capture that complexity. Extending our books analogy further, consider how we should place books that have a historical timeframe as well as some geographical location. Do we really want books from the 2nd World War to sit alongside books from the Roman Empire? Books on the American invasion of Sicily in 1943 are perhaps less related to books about Carthage than those that study the Jewish Revolt from 66-70 (in the Roman Province of Judaea). So books that relate to subjects which are closer in time should be stored together. However, a student of rebellion against empire may also be interested in the relationship between the Jewish Revolt of 66-70 and the Indian Rebellion of 1857, nearly 1800 years later. Whilst the technologies are different, the psychology of the people is shared: a rebellious nation angainst their imperial masters, triggered by misrule with a religious and cultural background. To capture such complexities we would need further dimensions in our latent representation. But are further dimensions justified by the amount of data we have? Can we really understand the facets of a film that only has at most three or four ratings?"
   ]
  },
  {
   "cell_type": "markdown",
   "metadata": {},
   "source": [
    "## Going Further\n",
    "\n",
    "If you want to take this model further then you'll need more data. You can use again the MovieLens 100k data but increasing the number of users (for example, for the Steepest Descent Algorithm you can do this by modifying the variable `nUsersInExample` that was set as 10 before)."
   ]
  },
  {
   "cell_type": "markdown",
   "metadata": {},
   "source": [
    "### Assignment Question 8\n",
    "\n",
    "Use stochastic gradient descent to make a movie map for the MovieLens 100k data. Plot the map of the movies when you are finished.\n",
    "\n",
    "*15 marks*"
   ]
  },
  {
   "cell_type": "code",
   "execution_count": 47,
   "metadata": {},
   "outputs": [
    {
     "ename": "KeyboardInterrupt",
     "evalue": "",
     "output_type": "error",
     "traceback": [
      "\u001b[0;31m---------------------------------------------------------------------------\u001b[0m",
      "\u001b[0;31mKeyboardInterrupt\u001b[0m                         Traceback (most recent call last)",
      "\u001b[0;32m<ipython-input-47-ce148632ad8e>\u001b[0m in \u001b[0;36m<module>\u001b[0;34m()\u001b[0m\n\u001b[1;32m     57\u001b[0m \u001b[0mY\u001b[0m \u001b[0;34m=\u001b[0m \u001b[0mpd\u001b[0m\u001b[0;34m.\u001b[0m\u001b[0mDataFrame\u001b[0m\u001b[0;34m(\u001b[0m\u001b[0;34m{\u001b[0m\u001b[0;34m'users'\u001b[0m\u001b[0;34m:\u001b[0m \u001b[0mp_list_users\u001b[0m\u001b[0;34m,\u001b[0m \u001b[0;34m'movies'\u001b[0m\u001b[0;34m:\u001b[0m \u001b[0mp_list_movies\u001b[0m\u001b[0;34m,\u001b[0m \u001b[0;34m'ratingsorig'\u001b[0m\u001b[0;34m:\u001b[0m \u001b[0mp_list_ratings_original\u001b[0m\u001b[0;34m,\u001b[0m\u001b[0;34m'ratings'\u001b[0m\u001b[0;34m:\u001b[0m\u001b[0mp_list_ratings\u001b[0m\u001b[0;34m.\u001b[0m\u001b[0mtolist\u001b[0m\u001b[0;34m(\u001b[0m\u001b[0;34m)\u001b[0m\u001b[0;34m}\u001b[0m\u001b[0;34m)\u001b[0m\u001b[0;34m\u001b[0m\u001b[0m\n\u001b[1;32m     58\u001b[0m \u001b[0;34m\u001b[0m\u001b[0m\n\u001b[0;32m---> 59\u001b[0;31m \u001b[0mU\u001b[0m\u001b[0;34m,\u001b[0m \u001b[0mV\u001b[0m \u001b[0;34m=\u001b[0m \u001b[0mtraining_stochastic\u001b[0m\u001b[0;34m(\u001b[0m\u001b[0;36m100000\u001b[0m\u001b[0;34m,\u001b[0m\u001b[0;36m0.01\u001b[0m\u001b[0;34m,\u001b[0m\u001b[0;36m40\u001b[0m\u001b[0;34m,\u001b[0m\u001b[0;36m1000\u001b[0m\u001b[0;34m)\u001b[0m\u001b[0;34m\u001b[0m\u001b[0m\n\u001b[0m\u001b[1;32m     60\u001b[0m \u001b[0mobj\u001b[0m \u001b[0;34m=\u001b[0m \u001b[0mcalculate_obj\u001b[0m\u001b[0;34m(\u001b[0m\u001b[0mY\u001b[0m\u001b[0;34m,\u001b[0m\u001b[0mU\u001b[0m\u001b[0;34m,\u001b[0m\u001b[0mV\u001b[0m\u001b[0;34m)\u001b[0m\u001b[0;34m\u001b[0m\u001b[0m\n\u001b[1;32m     61\u001b[0m \u001b[0mprint\u001b[0m\u001b[0;34m(\u001b[0m\u001b[0;34m\"Objective function: \"\u001b[0m\u001b[0;34m,\u001b[0m \u001b[0mobj\u001b[0m\u001b[0;34m)\u001b[0m\u001b[0;34m\u001b[0m\u001b[0m\n",
      "\u001b[0;32m<ipython-input-46-5cacdf00898c>\u001b[0m in \u001b[0;36mtraining_stochastic\u001b[0;34m(iteration, learning_rate, sample_size, print_n)\u001b[0m\n\u001b[1;32m     34\u001b[0m             \u001b[0mprediction\u001b[0m \u001b[0;34m=\u001b[0m \u001b[0mnp\u001b[0m\u001b[0;34m.\u001b[0m\u001b[0mdot\u001b[0m\u001b[0;34m(\u001b[0m\u001b[0mU\u001b[0m\u001b[0;34m.\u001b[0m\u001b[0mloc\u001b[0m\u001b[0;34m[\u001b[0m\u001b[0muser\u001b[0m\u001b[0;34m]\u001b[0m\u001b[0;34m,\u001b[0m \u001b[0mV\u001b[0m\u001b[0;34m.\u001b[0m\u001b[0mloc\u001b[0m\u001b[0;34m[\u001b[0m\u001b[0mfilm\u001b[0m\u001b[0;34m]\u001b[0m\u001b[0;34m)\u001b[0m \u001b[0;31m# vTu\u001b[0m\u001b[0;34m\u001b[0m\u001b[0m\n\u001b[1;32m     35\u001b[0m             \u001b[0mdiff\u001b[0m \u001b[0;34m=\u001b[0m \u001b[0mprediction\u001b[0m \u001b[0;34m-\u001b[0m \u001b[0mrating\u001b[0m \u001b[0;31m# vTu - y\u001b[0m\u001b[0;34m\u001b[0m\u001b[0m\n\u001b[0;32m---> 36\u001b[0;31m             \u001b[0mgU\u001b[0m\u001b[0;34m.\u001b[0m\u001b[0mloc\u001b[0m\u001b[0;34m[\u001b[0m\u001b[0muser\u001b[0m\u001b[0;34m]\u001b[0m \u001b[0;34m+=\u001b[0m \u001b[0;36m2\u001b[0m\u001b[0;34m*\u001b[0m\u001b[0mdiff\u001b[0m\u001b[0;34m*\u001b[0m\u001b[0mV\u001b[0m\u001b[0;34m.\u001b[0m\u001b[0mloc\u001b[0m\u001b[0;34m[\u001b[0m\u001b[0mfilm\u001b[0m\u001b[0;34m]\u001b[0m\u001b[0;34m\u001b[0m\u001b[0m\n\u001b[0m\u001b[1;32m     37\u001b[0m             \u001b[0mgV\u001b[0m\u001b[0;34m.\u001b[0m\u001b[0mloc\u001b[0m\u001b[0;34m[\u001b[0m\u001b[0mfilm\u001b[0m\u001b[0;34m]\u001b[0m \u001b[0;34m+=\u001b[0m \u001b[0;36m2\u001b[0m\u001b[0;34m*\u001b[0m\u001b[0mdiff\u001b[0m\u001b[0;34m*\u001b[0m\u001b[0mU\u001b[0m\u001b[0;34m.\u001b[0m\u001b[0mloc\u001b[0m\u001b[0;34m[\u001b[0m\u001b[0muser\u001b[0m\u001b[0;34m]\u001b[0m\u001b[0;34m\u001b[0m\u001b[0m\n\u001b[1;32m     38\u001b[0m \u001b[0;34m\u001b[0m\u001b[0m\n",
      "\u001b[0;32m~/anaconda3/lib/python3.6/site-packages/pandas/core/ops.py\u001b[0m in \u001b[0;36mf\u001b[0;34m(self, other)\u001b[0m\n\u001b[1;32m    892\u001b[0m \u001b[0;34m\u001b[0m\u001b[0m\n\u001b[1;32m    893\u001b[0m         \u001b[0;32mdef\u001b[0m \u001b[0mf\u001b[0m\u001b[0;34m(\u001b[0m\u001b[0mself\u001b[0m\u001b[0;34m,\u001b[0m \u001b[0mother\u001b[0m\u001b[0;34m)\u001b[0m\u001b[0;34m:\u001b[0m\u001b[0;34m\u001b[0m\u001b[0m\n\u001b[0;32m--> 894\u001b[0;31m             \u001b[0mresult\u001b[0m \u001b[0;34m=\u001b[0m \u001b[0mmethod\u001b[0m\u001b[0;34m(\u001b[0m\u001b[0mself\u001b[0m\u001b[0;34m,\u001b[0m \u001b[0mother\u001b[0m\u001b[0;34m)\u001b[0m\u001b[0;34m\u001b[0m\u001b[0m\n\u001b[0m\u001b[1;32m    895\u001b[0m \u001b[0;34m\u001b[0m\u001b[0m\n\u001b[1;32m    896\u001b[0m             \u001b[0;31m# this makes sure that we are aligned like the input\u001b[0m\u001b[0;34m\u001b[0m\u001b[0;34m\u001b[0m\u001b[0m\n",
      "\u001b[0;32m~/anaconda3/lib/python3.6/site-packages/pandas/core/ops.py\u001b[0m in \u001b[0;36mwrapper\u001b[0;34m(left, right)\u001b[0m\n\u001b[1;32m   1066\u001b[0m         \u001b[0mresult\u001b[0m \u001b[0;34m=\u001b[0m \u001b[0msafe_na_op\u001b[0m\u001b[0;34m(\u001b[0m\u001b[0mlvalues\u001b[0m\u001b[0;34m,\u001b[0m \u001b[0mrvalues\u001b[0m\u001b[0;34m)\u001b[0m\u001b[0;34m\u001b[0m\u001b[0m\n\u001b[1;32m   1067\u001b[0m         return construct_result(left, result,\n\u001b[0;32m-> 1068\u001b[0;31m                                 index=left.index, name=res_name, dtype=None)\n\u001b[0m\u001b[1;32m   1069\u001b[0m \u001b[0;34m\u001b[0m\u001b[0m\n\u001b[1;32m   1070\u001b[0m     \u001b[0;32mreturn\u001b[0m \u001b[0mwrapper\u001b[0m\u001b[0;34m\u001b[0m\u001b[0m\n",
      "\u001b[0;32m~/anaconda3/lib/python3.6/site-packages/pandas/core/ops.py\u001b[0m in \u001b[0;36m_construct_result\u001b[0;34m(left, result, index, name, dtype)\u001b[0m\n\u001b[1;32m    975\u001b[0m     \u001b[0;32mnot\u001b[0m \u001b[0mbe\u001b[0m \u001b[0menough\u001b[0m\u001b[0;34m;\u001b[0m \u001b[0mwe\u001b[0m \u001b[0mstill\u001b[0m \u001b[0mneed\u001b[0m \u001b[0mto\u001b[0m \u001b[0moverride\u001b[0m \u001b[0mthe\u001b[0m \u001b[0mname\u001b[0m \u001b[0mattribute\u001b[0m\u001b[0;34m.\u001b[0m\u001b[0;34m\u001b[0m\u001b[0m\n\u001b[1;32m    976\u001b[0m     \"\"\"\n\u001b[0;32m--> 977\u001b[0;31m     \u001b[0mout\u001b[0m \u001b[0;34m=\u001b[0m \u001b[0mleft\u001b[0m\u001b[0;34m.\u001b[0m\u001b[0m_constructor\u001b[0m\u001b[0;34m(\u001b[0m\u001b[0mresult\u001b[0m\u001b[0;34m,\u001b[0m \u001b[0mindex\u001b[0m\u001b[0;34m=\u001b[0m\u001b[0mindex\u001b[0m\u001b[0;34m,\u001b[0m \u001b[0mdtype\u001b[0m\u001b[0;34m=\u001b[0m\u001b[0mdtype\u001b[0m\u001b[0;34m)\u001b[0m\u001b[0;34m\u001b[0m\u001b[0m\n\u001b[0m\u001b[1;32m    978\u001b[0m \u001b[0;34m\u001b[0m\u001b[0m\n\u001b[1;32m    979\u001b[0m     \u001b[0mout\u001b[0m\u001b[0;34m.\u001b[0m\u001b[0mname\u001b[0m \u001b[0;34m=\u001b[0m \u001b[0mname\u001b[0m\u001b[0;34m\u001b[0m\u001b[0m\n",
      "\u001b[0;32m~/anaconda3/lib/python3.6/site-packages/pandas/core/series.py\u001b[0m in \u001b[0;36m__init__\u001b[0;34m(self, data, index, dtype, name, copy, fastpath)\u001b[0m\n\u001b[1;32m    190\u001b[0m                 raise NotImplementedError(\"initializing a Series from a \"\n\u001b[1;32m    191\u001b[0m                                           \"MultiIndex is not supported\")\n\u001b[0;32m--> 192\u001b[0;31m             \u001b[0;32melif\u001b[0m \u001b[0misinstance\u001b[0m\u001b[0;34m(\u001b[0m\u001b[0mdata\u001b[0m\u001b[0;34m,\u001b[0m \u001b[0mIndex\u001b[0m\u001b[0;34m)\u001b[0m\u001b[0;34m:\u001b[0m\u001b[0;34m\u001b[0m\u001b[0m\n\u001b[0m\u001b[1;32m    193\u001b[0m                 \u001b[0;32mif\u001b[0m \u001b[0mname\u001b[0m \u001b[0;32mis\u001b[0m \u001b[0;32mNone\u001b[0m\u001b[0;34m:\u001b[0m\u001b[0;34m\u001b[0m\u001b[0m\n\u001b[1;32m    194\u001b[0m                     \u001b[0mname\u001b[0m \u001b[0;34m=\u001b[0m \u001b[0mdata\u001b[0m\u001b[0;34m.\u001b[0m\u001b[0mname\u001b[0m\u001b[0;34m\u001b[0m\u001b[0m\n",
      "\u001b[0;31mKeyboardInterrupt\u001b[0m: "
     ]
    }
   ],
   "source": [
    "# Code for question 8 here.\n",
    "\n",
    "nUsersInExample = 610\n",
    "my_batch_users = indexes_users[0:nUsersInExample]\n",
    "\"\"\"\n",
    "We will use now the list of 'my_batch_users' to create a matrix Y. \n",
    "\"\"\"\n",
    "# We need to make a list of the movies that these users have watched\n",
    "list_movies_each_user = [[] for _ in range(nUsersInExample)]\n",
    "list_ratings_each_user = [[] for _ in range(nUsersInExample)]\n",
    "# Movies\n",
    "list_movies = ratings['movieId'][ratings['userId'] == my_batch_users[0]].values\n",
    "list_movies_each_user[0] = list_movies                    \n",
    "# Ratings                      \n",
    "list_ratings = ratings['rating'][ratings['userId'] == my_batch_users[0]].values\n",
    "list_ratings_each_user[0] = list_ratings\n",
    "# Users\n",
    "n_each_user = list_movies.shape[0]\n",
    "list_users = my_batch_users[0]*np.ones((1, n_each_user))\n",
    "\n",
    "for i in range(1, nUsersInExample):\n",
    "    # Movies\n",
    "    local_list_per_user_movies = ratings['movieId'][ratings['userId'] == my_batch_users[i]].values\n",
    "    list_movies_each_user[i] = local_list_per_user_movies\n",
    "    list_movies = np.append(list_movies,local_list_per_user_movies)\n",
    "    # Ratings                                 \n",
    "    local_list_per_user_ratings = ratings['rating'][ratings['userId'] == my_batch_users[i]].values\n",
    "    list_ratings_each_user[i] = local_list_per_user_ratings\n",
    "    list_ratings = np.append(list_ratings, local_list_per_user_ratings)  \n",
    "    # Users                                   \n",
    "    n_each_user = local_list_per_user_movies.shape[0]                                                                               \n",
    "    local_rep_user =  my_batch_users[i]*np.ones((1, n_each_user))    \n",
    "    list_users = np.append(list_users, local_rep_user)\n",
    "\n",
    "# Let us first see how many unique movies have been rated\n",
    "indexes_unique_movies = np.unique(list_movies)\n",
    "n_movies = indexes_unique_movies.shape[0]\n",
    "# As it is expected no all users have rated all movies. We will build a matrix Y \n",
    "# with NaN inputs and fill according to the data for each user \n",
    "temp = np.empty((n_movies,nUsersInExample,))\n",
    "temp[:] = np.nan\n",
    "Y_with_NaNs = pd.DataFrame(temp)\n",
    "for i in range(nUsersInExample):\n",
    " local_movies = list_movies_each_user[i]\n",
    " ixs = np.in1d(indexes_unique_movies, local_movies)\n",
    " Y_with_NaNs.loc[ixs, i] = list_ratings_each_user[i]\n",
    "\n",
    "Y_with_NaNs.index = indexes_unique_movies.tolist()\n",
    "Y_with_NaNs.columns = my_batch_users.tolist()\n",
    "\n",
    "p_list_ratings = np.concatenate(list_ratings_each_user).ravel()\n",
    "p_list_ratings_original = p_list_ratings.tolist()\n",
    "mean_ratings_train = np.mean(p_list_ratings)\n",
    "p_list_ratings =  p_list_ratings - mean_ratings_train # remove the mean\n",
    "p_list_movies = np.concatenate(list_movies_each_user).ravel().tolist()\n",
    "p_list_users = list_users.tolist()\n",
    "Y = pd.DataFrame({'users': p_list_users, 'movies': p_list_movies, 'ratingsorig': p_list_ratings_original,'ratings':p_list_ratings.tolist()})\n",
    "\n",
    "U, V = training_stochastic(100000,0.01,40,1000)\n",
    "obj = calculate_obj(Y,U,V)\n",
    "print(\"Objective function: \", obj)\n",
    "\n",
    " "
   ]
  },
  {
   "cell_type": "code",
   "execution_count": 42,
   "metadata": {},
   "outputs": [
    {
     "data": {
      "text/plain": [
       "[<matplotlib.lines.Line2D at 0xb159989e8>]"
      ]
     },
     "execution_count": 42,
     "metadata": {},
     "output_type": "execute_result"
    },
    {
     "data": {
      "image/png": "[encoded data removed]",
      "text/plain": [
       "<Figure size 432x288 with 1 Axes>"
      ]
     },
     "metadata": {},
     "output_type": "display_data"
    }
   ],
   "source": [
    "plt.plot(V[0], V[1], 'rx')\n",
    "plt.plot(U[0], U[1], 'bx')"
   ]
  },
  {
   "cell_type": "code",
   "execution_count": null,
   "metadata": {},
   "outputs": [],
   "source": []
  }
 ],
 "metadata": {
  "kernelspec": {
   "display_name": "Python 3",
   "language": "python",
   "name": "python3"
  },
  "language_info": {
   "codemirror_mode": {
    "name": "ipython",
    "version": 3
   },
   "file_extension": ".py",
   "mimetype": "text/x-python",
   "name": "python",
   "nbconvert_exporter": "python",
   "pygments_lexer": "ipython3",
   "version": "3.6.5"
  }
 },
 "nbformat": 4,
 "nbformat_minor": 1
}
