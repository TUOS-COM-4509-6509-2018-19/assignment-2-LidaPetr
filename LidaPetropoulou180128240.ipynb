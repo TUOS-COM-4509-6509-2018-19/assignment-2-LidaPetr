{
 "cells": [
  {
   "cell_type": "markdown",
   "metadata": {
    "colab_type": "text",
    "id": "wRiVEomASE7x"
   },
   "source": [
    "# Objective Functions: A Simple Example with Matrix Factorisation.\n",
    "\n",
    "### 6th October 2015 Neil D. Lawrence\n",
    "\n",
    "### Modified by Mauricio A Álvarez, 1st October 2018\n",
    "\n",
    "In last week's class we saw how we could load in a data set to pandas and use it for some simple data processing. We computed various probabilities on the data and I encouraged you to think about what sort of probabilities you need for prediction. This week we are going to take a slightly different tack. \n",
    "\n",
    "Broadly speaking there are two dominating approaches to machine learning problems. We started to consider the first approach last week: constructing models based on defining the relationship between variables using probabilities. This week we will consider the second approach: which involves defining an *objective function* and optimizing it. \n",
    "\n",
    "What do we mean by an objective function? An objective function could be an *error function*, a *cost function* or a *benefit* function. In evolutionary computing they are called *fitness* functions. But the idea is always the same. We write down a mathematical equation which is then optimized to do the learning. The equation should be a function of the *data* and our model *parameters*. We have a choice when optimizing, either minimize or maximize. To avoid confusion, in the optimization field, we always choose to minimize the function. If we have a function that we would like to maximize, we simply choose to minimize the negative of that function. \n",
    "\n",
    "So for this lab session, we are going to ignore probabilities, but don't worry, they will return! \n",
    "\n",
    "This week we are going to try and build a simple movie recommender system using an objective function. To do this, the first thing I'd like you to do is to install some software we've written for sharing information across google documents.\n",
    "\n",
    "## Open Data Science Software\n",
    "\n",
    "In Sheffield we have written a suite of software tools for 'Open Data Science'. Open data science is an approach to sharing code, models and data that should make it easier for companies, health professionals and scientists to gain access to data science techniques. For some background on open data science you can read [this blog post](http://inverseprobability.com/2014/07/01/open-data-science/). The first thing we will do this week is to download that suite of software. \n",
    "\n",
    "The software can be installed using\n",
    "\n",
    "```python\n",
    "pip install pods\n",
    "```\n",
    "\n",
    "from the command prompt where you can access your python installation.\n",
    "\n",
    "\n",
    "## Download the MovieLens 100k Data\n",
    "\n",
    "We are going to download the [MovieLens 100k](http://files.grouplens.org/datasets/movielens/ml-latest-small-README.html) Data. This is a public dataset that contains 100,000 ratings and 3,600 tag applications applied to 9,000 movies by 600 users. When you use a data set that someone has prepared you should always reference the data source to acknowledge the work that's been placed in. This particular dataset was collected by the [Grouplens Research group](https://grouplens.org/),  at the University of Minnesota. For example, if you were to use this dataset for writing a paper, the authors ask you that you acknowledge their work by citing the following paper:\n",
    "\n",
    "F. Maxwell Harper and Joseph A. Konstan. 2015. The MovieLens Datasets: History and Context. ACM Transactions on Interactive Intelligent Systems (TiiS) 5 (4):1-19 [https://doi.org/10.1145/2827872](https://doi.org/10.1145/2827872)"
   ]
  },
  {
   "cell_type": "code",
   "execution_count": 2,
   "metadata": {
    "colab": {
     "base_uri": "https://localhost:8080/",
     "height": 51
    },
    "colab_type": "code",
    "id": "qpN8kOY1SE7z",
    "outputId": "b15f09ad-b15e-4923-8622-d76ba58ef46e"
   },
   "outputs": [
    {
     "name": "stdout",
     "output_type": "stream",
     "text": [
      "Downloading  http://files.grouplens.org/datasets/movielens/ml-latest-small.zip -> ./ml-latest-small.zip\n",
      "[==============================]   0.933/0.933MB                                                                                                                                                                                                                                                                                                                                                                                                                                                                                                                                                                                                                                                                                                                                                                                                                                                                                                                                                                                                                                                                                                                                                                                                                                                                                                                                                                                                                                                                                                                                                                                                                                                                                                                                                                                                                                                                                                                                                                                                                                                                                                                                                                                                                                                                                                                                                                                                                                                                                                                                                                                                                                                                                                                                                                                                                                                                                                                                                                                                                                                                                                                                                                                                                                                                                                                                                                                                                                                                                                                                                                                                                                                                                                                                                                                                                                                                                                                                                                                                                                                                                                                                                                                                                                                                                                                                                                                                                                                                                                                                                                                                                                                                                                                                                                                                                                                                                                                                                                                                                                                                                                                                                                                                                                                                                                                                                                                                                                                                                                                                                                                                                                                                                                                                                                                                                                                                                                                                                                                                \n"
     ]
    }
   ],
   "source": [
    "import pods\n",
    "import zipfile\n",
    "import sys\n",
    "import pandas as pd\n",
    "import numpy as np\n",
    "%matplotlib inline \n",
    "import pylab as plt # this imports the plotting library in python\n",
    "\n",
    "pods.util.download_url(\"http://files.grouplens.org/datasets/movielens/ml-latest-small.zip\")\n",
    "zip_console = zipfile.ZipFile('ml-latest-small.zip', 'r')\n",
    "for name in zip_console.namelist():\n",
    "           zip_console.extract(name, './')\n",
    "           \n"
   ]
  },
  {
   "cell_type": "markdown",
   "metadata": {
    "colab_type": "text",
    "id": "nTLCddy1SE78"
   },
   "source": [
    "### Assignment Question 1\n",
    "\n",
    "Data ethics. If you find data available on the internet, can you simply use it without consequence? If you are given data by a fellow researcher can you publish that data on line? \n",
    "\n",
    "*5 marks*"
   ]
  },
  {
   "cell_type": "markdown",
   "metadata": {
    "colab_type": "text",
    "id": "7xwdcO1CSE7-"
   },
   "source": [
    "#### Question 1 Answer\n",
    "\n",
    "If the data is available online freely, the persmission for further use is implied. However, in order to use such a data in my work, I should always check the data source. This is done to acknowledge the work that has been placed in order to prepare the given data. If the data is a part of the research of a fellow researcher and is not available freely,  I should obtain written permission for the use of the data from the researcher. If want to publish online the data, the name of the researcher who prepared should be mentioned for ethical clearance. \n",
    "\n",
    "References:\n",
    "1. TRIPATHY, J. (2018). Secondary Data Analysis: Ethical Issues and Challenges. [online] PubMed Central (PMC). Available at: https://www.ncbi.nlm.nih.gov/pmc/articles/PMC4441947/ ."
   ]
  },
  {
   "cell_type": "markdown",
   "metadata": {
    "colab_type": "text",
    "id": "k1YweV37SE8A"
   },
   "source": [
    "## Recommender Systems\n",
    "\n",
    "A recommender system aims to make suggestions for items (films, books, other commercial products) given what it knows about users' tastes. The recommendation engine needs to represent the *taste* of all the users and the *characteristics* of each object. \n",
    "\n",
    "A common way for organizing objects is to place related objects spatially close together. For example in a library we try and put books that are on related topics near to each other on the shelves. One system for doing this is known as [Dewey Decimal Classification](http://en.wikipedia.org/wiki/Dewey_Decimal_Classification). In the Dewey Decimal Classification system (which dates from 1876) each subject is given a number (in fact it's a decimal number). For example, the field of Natural Sciences and Mathematics is given numbers which start with 500. Subjects based on Computer Science are given numbers which start 004 and works on the 'mathematical principles' of Computer science are given the series 004.0151 (which we might store as 4.0151 on a Computer). Whilst it's a classification system, the books in the library are typically laid out in the same order as the numbers, so we might expect that neighbouring numbers represent books that are related in subject. That seems to be exactly what we want when also representing films. Could we somehow represent each film's subject according to a number? In a similar way we could then imagine representing users with a list of numbers that represent things that each user is interested in.\n",
    "\n",
    "Actually a one dimensional representation of a subject can be very awkward. To see this, let's have a look at the Dewey Decimal Classification numbers for the 900s, which is listed as 'History and Geography'. We will focus on subjects in the 940s which can be found in this list from [Wikipedia](https://en.wikipedia.org/wiki/List_of_Dewey_Decimal_classes#Class_900_%E2%80%93_History_&_geography). Whilst the ordering for places is somewhat sensible, it is also rather arbitrary. In the 940s we have Europe listed from 940-949, Asia listed from 950-959 and Africa listed from 960-969. Whilst it's true that Asia borders Europe, Africa is also very close, and the history of the Roman Empire spreads into [Carthage](http://en.wikipedia.org/wiki/Carthage) and later on Egypt. This image from Wikipedia shows a map of the Cathaginian Empire which fell after fighting with Rome. \n",
    "\n",
    "\n",
    "<a title=\"By Javierfv1212 [Public domain], from Wikimedia Commons\" href=\"https://commons.wikimedia.org/wiki/File:Carthaginianempire.PNG\"><img width=\"512\" alt=\"Carthaginianempire\" src=\"https://upload.wikimedia.org/wikipedia/commons/thumb/9/9b/Carthaginianempire.PNG/512px-Carthaginianempire.PNG\"></a>\n",
    "\n",
    "We now need to make a decision about whether Roman Histories are European or African, ideally we'd like them to be somewhere between the two, but we can't place them there in the Dewey Decimal system because between Europe and Africa is Asia, which has less to do with the Roman Empire than either Europe or Africa. Of course the fact that we've used a map provides a clue as to what to do next. Libraries are actually laid out on floors, so what if we were to use the spatial lay out to organise the sujbects of the books in two dimensions. Books on Geography could be laid out according to where in the world they are referring to. \n",
    "\n",
    "Such complexities are very hard to encapsulate in one number, but inspired by the map examples we can start considering how we might lay out films in two dimensions. Similarly, we can consider laying out a map of people's interests. If the two maps correspond to one another, the map of people could reflect where they might want to live in 'subject space'. We can think of representing people's tastes as where they might best like to sit in the library to access easily the books they are most interested in.\n",
    "\n",
    "\n",
    "## Inner Products for Representing Similarity\n",
    "\n",
    "Ideas like the above are good for gaining intuitions about what we might want, but the one of the skills of data science is representing those ideas mathematically. Mathematical abstraction of a problem is one of the key ways in which we've been able to progress as a society. Understanding planetary motions, as well as those of the smallest molecule (to quote Laplace's [Philosophical Essay on Probabilities](http://books.google.co.uk/books?id=1YQPAAAAQAAJ&printsec=frontcover&source=gbs_ge_summary_r&cad=0#v=onepage&q&f=false)) needed to be done mathematically. The right mathematical model in machine learning can be slightly more elusive, because constructing it is a two stage process. \n",
    "\n",
    "1. We have to determine the right intuition for the system we want to represent. Notions such as 'subject' and 'interest' are not mathematically well defined, and even when we create a new interpretation of what they might mean, each interpretation may have its own weaknesses. \n",
    "\n",
    "2. Once we have our interpretation we can attempt to mathematically formalize it. In our library interpretation, that's what we need to do next. \n",
    "\n",
    "### The Library on an Infinite Plane\n",
    "\n",
    "Let's imagine a library which stores all the items  we are interested in, not just books, but films and shopping items too. Such a library is likely to be very large, so we'll create it on an infinite two dimensional plane. This means we can use all the real numbers to represent the location of each item on the plane. For a two dimensional plane, we need to store the locations in a vector of numbers: we can decide that the $j$th item's location in the library is given by \n",
    "$$\n",
    "\\mathbf{v}_j = \\begin{bmatrix} v_{j,1} \\\\ v_{j,2}\\end{bmatrix},\n",
    "$$\n",
    "where $v_{j,1}$ represents the $j$th item's location in the East-West direction (or the $x$-axis) and $v_{j,2}$ represents the $j$th item's location in the North-South direction (or the $y$-axis). Now we need to specify the location where each user sits so that all the items that interest them are nearby: we can also represent the $i$th user's location with a vector \n",
    "$$\n",
    "\\mathbf{u}_i = \\begin{bmatrix} u_{i,1} \\\\ u_{i,2}\\end{bmatrix}.\n",
    "$$\n",
    "Finally, we need some way of recording a given user's affinity for a given item. This affinity might be the rating that the user gives the film. We can use $y_{i,j}$ to represent user $i$'s affinity for item $j$. \n",
    "\n",
    "For our film example we might imagine wanting to order films in a few ways. We could imagine organising films in the North-South direction as to how romantic they are. We could place the more romantic films further North and the less romantic films further South. For the East-West direction we could imagine ordering them according to how historic they are: we can imagine placing science fiction films to the East and historical drama to the West. In this case, fans of historical romances would be based in the North-West location, whilst fans of Science Fiction Action films might be located in the South-East (if we assume that 'Action' is the opposite of 'Romance', which is not necessarily the case). How do we lay out all these films? Have we got the right axes? In machine learning the answer is to 'let the data speak'. Use the data to try and obtain such a lay out. To do this we first need to obtain the data."
   ]
  },
  {
   "cell_type": "markdown",
   "metadata": {
    "colab_type": "text",
    "id": "APv8WIeESE8C"
   },
   "source": [
    "## Obtaining the Data\n",
    "\n",
    "As mentioned before, the MovieLens dataset that we'll use has 100,000 ratings to 9,000 movies by 600 users. For now, we will only work with a subset of the dataset. In particular, we will randomly chose a particular number of users and extract the movies and ratings that the users gave to those movies. Read the code below and understand what it is doing.\n",
    "\n",
    "**Before you run the code**, notice that `YourStudentID` in the first line is a variable that will specify the seed for the random number generator that will select a particular set of `nUsersInExample` users. Change the number that has been assigned by default to `YourStudentID` to the last three digits of your UCard number. All of you will have a different subset of users."
   ]
  },
  {
   "cell_type": "code",
   "execution_count": 3,
   "metadata": {
    "colab": {},
    "colab_type": "code",
    "id": "C4xscLAtSE8D"
   },
   "outputs": [],
   "source": [
    "#YourStudentID = 20  # Include here the last three digits of your UCard number\n",
    "YourStudentID = 576  # Include here the last three digits of your UCard number\n",
    "nUsersInExample = 10 # The maximum number of Users we're going to analyse at one time\n",
    "\n",
    "ratings = pd.read_csv(\"./ml-latest-small/ratings.csv\") \n",
    "\"\"\"\n",
    "ratings is a DataFrame with four columns: userId, movieId, rating and tags. We\n",
    "first want to identify how many unique users there are. We can use the unique \n",
    "method in pandas\n",
    "\"\"\"\n",
    "indexes_unique_users = ratings['userId'].unique()\n",
    "n_users = indexes_unique_users.shape[0]\n",
    "\"\"\" \n",
    "We randomly select 'nUsers' users with their ratings. We first fix the seed\n",
    "of the random generator to make sure that we always get the same 'nUsers'\n",
    "\"\"\"\n",
    "np.random.seed(YourStudentID)\n",
    "indexes_users = np.random.permutation(n_users)\n",
    "my_batch_users = indexes_users[0:nUsersInExample]\n",
    "\"\"\"\n",
    "We will use now the list of 'my_batch_users' to create a matrix Y. \n",
    "\"\"\"\n",
    "# We need to make a list of the movies that these users have watched\n",
    "list_movies_each_user = [[] for _ in range(nUsersInExample)]\n",
    "list_ratings_each_user = [[] for _ in range(nUsersInExample)]\n",
    "# Movies\n",
    "list_movies = ratings['movieId'][ratings['userId'] == my_batch_users[0]].values\n",
    "list_movies_each_user[0] = list_movies                    \n",
    "# Ratings                      \n",
    "list_ratings = ratings['rating'][ratings['userId'] == my_batch_users[0]].values\n",
    "list_ratings_each_user[0] = list_ratings\n",
    "# Users\n",
    "n_each_user = list_movies.shape[0]\n",
    "list_users = my_batch_users[0]*np.ones((1, n_each_user))\n",
    "\n",
    "for i in range(1, nUsersInExample):\n",
    "    # Movies\n",
    "    local_list_per_user_movies = ratings['movieId'][ratings['userId'] == my_batch_users[i]].values\n",
    "    list_movies_each_user[i] = local_list_per_user_movies\n",
    "    list_movies = np.append(list_movies,local_list_per_user_movies)\n",
    "    # Ratings                                 \n",
    "    local_list_per_user_ratings = ratings['rating'][ratings['userId'] == my_batch_users[i]].values\n",
    "    list_ratings_each_user[i] = local_list_per_user_ratings\n",
    "    list_ratings = np.append(list_ratings, local_list_per_user_ratings)  \n",
    "    # Users                                   \n",
    "    n_each_user = local_list_per_user_movies.shape[0]                                                                               \n",
    "    local_rep_user =  my_batch_users[i]*np.ones((1, n_each_user))    \n",
    "    list_users = np.append(list_users, local_rep_user)\n",
    "\n",
    "# Let us first see how many unique movies have been rated\n",
    "indexes_unique_movies = np.unique(list_movies)\n",
    "n_movies = indexes_unique_movies.shape[0]\n",
    "# As it is expected no all users have rated all movies. We will build a matrix Y \n",
    "# with NaN inputs and fill according to the data for each user \n",
    "temp = np.empty((n_movies,nUsersInExample,))\n",
    "temp[:] = np.nan\n",
    "Y_with_NaNs = pd.DataFrame(temp)\n",
    "for i in range(nUsersInExample):\n",
    " local_movies = list_movies_each_user[i]\n",
    " ixs = np.in1d(indexes_unique_movies, local_movies)\n",
    " Y_with_NaNs.loc[ixs, i] = list_ratings_each_user[i]\n",
    "\n",
    "Y_with_NaNs.index = indexes_unique_movies.tolist()\n",
    "Y_with_NaNs.columns = my_batch_users.tolist()"
   ]
  },
  {
   "cell_type": "markdown",
   "metadata": {
    "colab_type": "text",
    "id": "3R50imCZSE8N"
   },
   "source": [
    "### Assignment Question 2\n",
    "\n",
    "Have a look at the matrix `Y_with_NaNs`. The movies data is now in a data frame which contains one column for each user rating the movie. There are some entries that contain 'NaN'. What does the 'NaN' mean in this context?\n",
    "\n",
    "*5 marks*"
   ]
  },
  {
   "cell_type": "markdown",
   "metadata": {
    "colab_type": "text",
    "id": "Migh-Cf9SE8O"
   },
   "source": [
    "#### Answer Question 2\n",
    "\n",
    "In this context the entries that contain the number 'Nan' represent the movies that each user hasn't rated. This is done to ensure that this matrix won't have any empty cells."
   ]
  },
  {
   "cell_type": "markdown",
   "metadata": {
    "colab_type": "text",
    "id": "JKf9mpQzSE8Q"
   },
   "source": [
    "Now we will convert our data structure into a form that is appropriate for processing. We will convert the `Y_with_NaNs` dataframe into a new dataframe which contains the user, the movie, and the rating using the following code"
   ]
  },
  {
   "cell_type": "code",
   "execution_count": 4,
   "metadata": {
    "colab": {},
    "colab_type": "code",
    "id": "TENhZ91YSE8S"
   },
   "outputs": [],
   "source": [
    "p_list_ratings = np.concatenate(list_ratings_each_user).ravel()\n",
    "p_list_ratings_original = p_list_ratings.tolist()\n",
    "mean_ratings_train = np.mean(p_list_ratings)\n",
    "p_list_ratings =  p_list_ratings - mean_ratings_train # remove the mean\n",
    "p_list_movies = np.concatenate(list_movies_each_user).ravel().tolist()\n",
    "p_list_users = list_users.tolist()\n",
    "Y = pd.DataFrame({'users': p_list_users, 'movies': p_list_movies, 'ratingsorig': p_list_ratings_original,'ratings':p_list_ratings.tolist()})\n",
    "\n",
    "#print(Y_with_NaNs)\n",
    "#print(Y)"
   ]
  },
  {
   "cell_type": "markdown",
   "metadata": {
    "colab_type": "text",
    "id": "iOiW9aaVSE8Z"
   },
   "source": [
    "### Assignment Question 3\n",
    "\n",
    "The dataframes `Y_with_NaNs` and `Y` contain the same information but organised in a different way. Explain what is the difference. We have also included two columns for ratings in dataframe `Y`, `ratingsorig` and `ratings`. Explain\n",
    "the difference. \n",
    "\n",
    "*10 marks*"
   ]
  },
  {
   "cell_type": "markdown",
   "metadata": {
    "colab_type": "text",
    "id": "QNyS7llESE8a"
   },
   "source": [
    "#### Question 3 Answer\n",
    "\n",
    "The dataframe `Y_with_NaNs` contains 10 columns, one for each user. Each row of this dataframe represents a movie, so the values that exist in each row represent the rating of each user for the specific movie.\n",
    "The dataframe `Y` contains a row for each movie that a user has seen, that means many rows correspond to one movie, since a movie might have be seen by multiple users. \n",
    "\n",
    "The dataframe `Y_with_NaNs` containts the rating of each user for every movie that is in the dataset, even if the user hasn't rated all of these movies. In that case the value that is used to represent that a user hasn't rated a movie is the value \"NaN\". On the other hand, the dataframe `Y` contains the ratings of every user only for the movies that he/she has rated, so in this dataframe there are no \"NaN\" values.  \n",
    "\n",
    "`ratingsorig`: represents the original rating that the user has given to a movie.\n",
    "`ratings`: represents the deviation of the rating that the user has given to a movie, from the mean rating of the specific movie. This value will be positive if the rating is greater that the average rating, zero if it is equal to the average rating and negative otherwise. This is done to normalize the ratings."
   ]
  },
  {
   "cell_type": "markdown",
   "metadata": {
    "colab_type": "text",
    "id": "zCXS6sEiSE8b"
   },
   "source": [
    "## Measuring Similarity\n",
    "\n",
    "We now need a measure for determining the similarity between the item and the user: how close the user is sitting to the item in the rooom if you like. We are going to use the inner product between the vector representing the item and the vector representing the user. \n",
    "\n",
    "An inner product (or [dot product](http://en.wikipedia.org/wiki/Dot_product)) between two vectors $\\mathbf{a}$ and $\\mathbf{b}$ is written as $\\mathbf{a}\\cdot\\mathbf{b}$. Or in vector notation we sometimes write it as $\\mathbf{a}^\\top\\mathbf{b}$. An inner product is simply the sume of the products of each element of the vector,\n",
    "$$\n",
    "\\mathbf{a}^\\top\\mathbf{b} = \\sum_{i} a_i b_i\n",
    "$$\n",
    "The inner product can be seen as a measure of similarity. The inner product gives us the cosine of the angle between the two vectors multiplied by their length. The smaller the angle between two vectors the larger the inner product. \n",
    "$$\n",
    "\\mathbf{a}^\\top\\mathbf{b} = |\\mathbf{a}||\\mathbf{b}| \\cos(\\theta)\n",
    "$$\n",
    "where $\\theta$ is the angle between two vectors and $|\\mathbf{a}|$ and $|\\mathbf{b}|$ are the respective lengths of the two vectors.\n",
    "\n",
    "Since we want each user to be sitting near each item, then we want the inner product to be large for any two items which are rated highly by that user. We can do this by trying to force the inner product $\\mathbf{u}_i^\\top\\mathbf{v}_j$ to be similar to the rating given by the user, $y_{i,j}$. To ensure this we will use a least squares objective function for all user ratings."
   ]
  },
  {
   "cell_type": "markdown",
   "metadata": {
    "colab_type": "text",
    "id": "dUgK8sKsSE8c"
   },
   "source": [
    "## Objective Function\n",
    "\n",
    "The error function (or objective function, or cost function) we will choose is known as 'sum of squares', we will aim to minimize the sum of squared squared error between the inner product of $\\mathbf{u}_i$ and $\\mathbf{v}_i$ and the observed score for the user/item pairing, given by $y_{i, j}$. \n",
    "\n",
    "The total objective function can be written as\n",
    "$$\n",
    "E(\\mathbf{U}, \\mathbf{V}) = \\sum_{i,j} s_{i,j} (y_{i,j} - \\mathbf{u}_i^\\top \\mathbf{v}_j)^2\n",
    "$$\n",
    "where $s_{i,j}$ is an *indicator* variable that is 1 if user $i$ has rated item $j$ and is zero otherwise. Here $\\mathbf{U}$ is the matrix made up of all the vectors $\\mathbf{u}$,\n",
    "$$\n",
    "\\mathbf{U} = \\begin{bmatrix} \\mathbf{u}_1 \\dots \\mathbf{u}_n\\end{bmatrix}^\\top\n",
    "$$\n",
    "where we note that $i$th *row* of $\\mathbf{U}$ contains the vector associated with the $i$th user and $n$ is the total number of users. This form of matrix is known as a *design matrix*. Similarly, we define the matrix\n",
    "$$\n",
    "\\mathbf{V} = \\begin{bmatrix} \\mathbf{v}_1 \\dots \\mathbf{v}_m\\end{bmatrix}^\\top\n",
    "$$\n",
    "where again the $j$th row of $\\mathbf{V}$ contains the vector associated with the $j$th item and $m$ is the total number of items in the data set.\n",
    "\n",
    "## Objective Optimization\n",
    "\n",
    "The idea is to mimimize this objective. A standard, simple, technique for minimizing an objective is *gradient descent* or *steepest descent*. In gradient descent we simply choose to update each parameter in the model by subtracting a multiple of the objective function's gradient with respect to the parameters. So for a parameter $u_{i,j}$ from the matrix $\\mathbf{U}$ we would have an update as follows:\n",
    "$$\n",
    "u_{k,\\ell} \\leftarrow u_{k,\\ell} - \\eta \\frac{\\text{d} E(\\mathbf{U}, \\mathbf{V})}{\\text{d}u_{k,\\ell}} \n",
    "$$\n",
    "where $\\eta$ (which is pronounced *eta* in English) is a Greek letter representing the *learning rate*.  \n",
    "\n",
    "We can compute the gradient of the objective function with respect to $u_{k,\\ell}$ as\n",
    "$$\n",
    "\\frac{\\text{d}E(\\mathbf{U}, \\mathbf{V})}{\\text{d}u_{k,\\ell}} = -2 \\sum_j s_{k,j}v_{j,\\ell}(y_{k, j} - \\mathbf{u}_k^\\top\\mathbf{v}_{j}). \n",
    "$$\n",
    "Similarly each parameter $v_{i,j}$ needs to be updated according to its gradient. \n"
   ]
  },
  {
   "cell_type": "markdown",
   "metadata": {
    "colab_type": "text",
    "id": "xCwvdKt7SE8d"
   },
   "source": [
    "### Assignment Question 4\n",
    "\n",
    "What is the gradient of the objective function with respect to $v_{k, \\ell}$? Write your answer in the box below, and explain which differentiation techniques you used to get there. You will be expected to justify your answer in class by oral questioning. \n",
    "\n",
    "*15 marks*"
   ]
  },
  {
   "cell_type": "markdown",
   "metadata": {
    "colab_type": "text",
    "id": "3Oht9IGvSE8f"
   },
   "source": [
    "#### Question 4 Answer\n",
    "The gradient of the objective function with respect to $v_{k,\\ell}$ is\n",
    "$$\n",
    "\\frac{\\text{d}E(\\mathbf{U}, \\mathbf{V})}{\\text{d}v_{k,\\ell}} = -2 \\sum_i s_{i,k}u_{i,l}(y_{i, k} - \\mathbf{u}_i^\\top\\mathbf{v}_{k}). \n",
    "$$\n",
    "\n",
    "Firstly we notice that the parameter $v_{k,l}$ appears only in the terms of the sum where $j=k$. So we are just differentiating $\\sum_i s_{i,k} (y_{i,k} - \\mathbf{u}_i^\\top \\mathbf{v}_k)^2$, which is basically the differentiation of $(y_{i,k} - \\mathbf{u}_i^\\top \\mathbf{v}_k)^2$ for each term in the sum. The gradient of this term is the gradient of the quadratic, multiplied to the gradient with respect to $v_{k,\\ell}$ of the part inside the quadratic. The gradient of the quadratic is two times the argument of the quadratic, and the gradient of the inside term is minus one multiplied by $u_{i,\\ell}$, since only this term contains the $v_{k,\\ell}$. This true for all the terms in the sum $\\sum_i$, so we are left with the sum in the gradient."
   ]
  },
  {
   "cell_type": "markdown",
   "metadata": {
    "colab_type": "text",
    "id": "FWHwVvt3SE8h"
   },
   "source": [
    "## Steepest Descent Algorithm\n",
    "\n",
    "In the steepest descent algorithm we aim to minimize the objective function by subtacting the gradient of the objective function from the parameters. \n",
    "\n",
    "### Initialisation\n",
    "\n",
    "To start with though, we need initial values for the matrix $\\mathbf{U}$ and the matrix $\\mathbf{V}$. Let's create them as `pandas` data frames and initialise them randomly with small values."
   ]
  },
  {
   "cell_type": "code",
   "execution_count": 5,
   "metadata": {
    "colab": {},
    "colab_type": "code",
    "id": "Y9u_ZtnPSE8i"
   },
   "outputs": [],
   "source": [
    "q = 2 # the dimension of our map of the 'library'\n",
    "learn_rate = 0.01\n",
    "U = pd.DataFrame(np.random.normal(size=(nUsersInExample, q))*0.001, index=my_batch_users)\n",
    "V = pd.DataFrame(np.random.normal(size=(n_movies, q))*0.001, index=indexes_unique_movies)"
   ]
  },
  {
   "cell_type": "markdown",
   "metadata": {
    "colab_type": "text",
    "id": "E90lzvzTSE8m"
   },
   "source": [
    "Now that we have the initial values set, we can start the optimization. First we define a function for the gradient of the objective and the objective function itself."
   ]
  },
  {
   "cell_type": "code",
   "execution_count": 6,
   "metadata": {
    "colab": {},
    "colab_type": "code",
    "id": "hT1v12FBSE8n"
   },
   "outputs": [],
   "source": [
    "def objective_gradient(Y, U, V):\n",
    "    gU = pd.DataFrame(np.zeros((U.shape)), index=U.index)\n",
    "    gV = pd.DataFrame(np.zeros((V.shape)), index=V.index)\n",
    "    obj = 0.\n",
    "    nrows = Y.shape[0]\n",
    "    for i in range(nrows):\n",
    "        row = Y.iloc[i]\n",
    "        user = row['users']\n",
    "        film = row['movies']\n",
    "        rating = row['ratings']\n",
    "        prediction = np.dot(U.loc[user], V.loc[film]) # vTu\n",
    "        diff = prediction - rating # vTu - y\n",
    "        obj += diff*diff\n",
    "        gU.loc[user] += 2*diff*V.loc[film]\n",
    "        gV.loc[film] += 2*diff*U.loc[user]\n",
    "    return obj, gU, gV"
   ]
  },
  {
   "cell_type": "markdown",
   "metadata": {
    "colab_type": "text",
    "id": "fh2NfOuHSE8q"
   },
   "source": [
    "Now we can write our simple optimisation route. This allows us to observe the objective function as the optimization proceeds."
   ]
  },
  {
   "cell_type": "code",
   "execution_count": 7,
   "metadata": {
    "colab": {
     "base_uri": "https://localhost:8080/",
     "height": 357
    },
    "colab_type": "code",
    "id": "mnpIxQw3SE8r",
    "outputId": "55a5d677-8bd9-489b-dbb6-f5e038e87280"
   },
   "outputs": [
    {
     "name": "stdout",
     "output_type": "stream",
     "text": [
      "Iteration 0 Objective function:  1807.9958370140457\n",
      "Iteration 1 Objective function:  1807.9955364332832\n",
      "Iteration 2 Objective function:  1807.9950669964476\n",
      "Iteration 3 Objective function:  1807.994038709095\n",
      "Iteration 4 Objective function:  1807.9915482043389\n",
      "Iteration 5 Objective function:  1807.9852773375776\n",
      "Iteration 6 Objective function:  1807.9691982179304\n",
      "Iteration 7 Objective function:  1807.927577676434\n",
      "Iteration 8 Objective function:  1807.819282373486\n",
      "Iteration 9 Objective function:  1807.5366918337565\n",
      "Iteration 10 Objective function:  1806.798238991014\n",
      "Iteration 11 Objective function:  1804.8681767217217\n",
      "Iteration 12 Objective function:  1799.8315765474176\n",
      "Iteration 13 Objective function:  1786.7584118516847\n",
      "Iteration 14 Objective function:  1753.3218345601426\n",
      "Iteration 15 Objective function:  1671.0710008421513\n",
      "Iteration 16 Objective function:  1488.2843499968421\n",
      "Iteration 17 Objective function:  1175.3449730562781\n",
      "Iteration 18 Objective function:  895.2794207199258\n",
      "Iteration 19 Objective function:  839.5724465587983\n"
     ]
    }
   ],
   "source": [
    "iterations = 20\n",
    "for i in range(iterations):\n",
    "    obj, gU, gV = objective_gradient(Y, U, V)\n",
    "    print(\"Iteration\", i, \"Objective function: \", obj)\n",
    "    U -= learn_rate*gU\n",
    "    V -= learn_rate*gV    "
   ]
  },
  {
   "cell_type": "markdown",
   "metadata": {
    "colab_type": "text",
    "id": "DeRUGSmySE8v"
   },
   "source": [
    "### Assignment Question 5\n",
    "\n",
    "What happens as you increase the number of iterations? What happens if you increase the learning rate?\n",
    "\n",
    "*10 marks*"
   ]
  },
  {
   "cell_type": "markdown",
   "metadata": {
    "colab_type": "text",
    "id": "HRUrK1RGSE8w"
   },
   "source": [
    "#### Question 5 Answer\n",
    "\n",
    "When the number of iterations increases and the learning rate remains 0.01, the value of the objective function decreases. We notice that the objective function converges to the minimun of the objective function.\n",
    "On the other hand if we increase the learning rate, we notice that the value of the objective function could decrease more in a certain amount of iterations, but we also notice that our system becomes unstable. That means that if we increase the learning rate too much then the objective function takes really big values, and it ends up being infinite."
   ]
  },
  {
   "cell_type": "code",
   "execution_count": 8,
   "metadata": {
    "colab": {
     "base_uri": "https://localhost:8080/",
     "height": 513
    },
    "colab_type": "code",
    "id": "J03XHGg3SE8x",
    "outputId": "22fb6f01-8d99-45af-c302-411f3cd79107"
   },
   "outputs": [
    {
     "data": {
      "image/png": "[encoded data removed]",
      "text/plain": [
       "<Figure size 432x288 with 1 Axes>"
      ]
     },
     "metadata": {},
     "output_type": "display_data"
    },
    {
     "data": {
      "image/png": "[encoded data removed]",
      "text/plain": [
       "<Figure size 432x288 with 1 Axes>"
      ]
     },
     "metadata": {},
     "output_type": "display_data"
    }
   ],
   "source": [
    "# Question 5 Code Answer\n",
    "\n",
    "def training_print(iteration, learning_rate):\n",
    "    U = pd.DataFrame(np.random.normal(size=(nUsersInExample, q))*0.001, index=my_batch_users)\n",
    "    V = pd.DataFrame(np.random.normal(size=(n_movies, q))*0.001, index=indexes_unique_movies)\n",
    "    obj_list=[]\n",
    "    for i in range(iteration):\n",
    "        obj, gU, gV = objective_gradient(Y, U, V)\n",
    "        #print(\"Iteration\", i, \"Objective function: \", obj)\n",
    "        U -= learning_rate*gU\n",
    "        V -= learning_rate*gV\n",
    "        obj_list.append(obj)\n",
    "    plt.plot(obj_list)  \n",
    "    plt.show()\n",
    "    return U, V\n",
    "\n",
    "\n",
    "iterations = 40\n",
    "learn_rate = 0.01\n",
    "U, V = training_print(iterations, learn_rate) \n",
    "    \n",
    "iterations = 20\n",
    "learn_rate = 0.03\n",
    "U, V = training_print(iterations, learn_rate)   "
   ]
  },
  {
   "cell_type": "markdown",
   "metadata": {
    "colab_type": "text",
    "id": "BJbB8mq7SE81"
   },
   "source": [
    "## Making Predictions\n",
    "\n",
    "Predictions can be made from the model of the appropriate rating for a given user, $i$, for a given film, $j$, by simply taking the inner product between their vectors $\\mathbf{u}_i$ and $\\mathbf{v}_j$. "
   ]
  },
  {
   "cell_type": "markdown",
   "metadata": {
    "colab_type": "text",
    "id": "22qiwNCZSE81"
   },
   "source": [
    "### Assignment Question 6\n",
    "\n",
    "Create a function that provides the prediction of the ratings for the users in the dataset. Is the quality of the predictions affected by the number of iterations or the learning rate? The function should receive `Y`, `U` and `V` and return the predictions and the absolute error between the predictions and the actual rating given by the users. The predictions and the absolute error should be added as additional columns to the dataframe `Y`.\n",
    "\n",
    "*15 marks*"
   ]
  },
  {
   "cell_type": "markdown",
   "metadata": {
    "colab_type": "text",
    "id": "XhexmBMWOnub"
   },
   "source": [
    "#### Question 6 Answer\n",
    "Likewise before, we notice that when we increase the number of iterations, the absolute error decreases, whereas when we increase the learning rate the absolute error in some ratings decreases while in others it increases. So, we understand that the quality of the predictions is affected by the number of iterations and the learning rate."
   ]
  },
  {
   "cell_type": "code",
   "execution_count": 9,
   "metadata": {
    "colab": {
     "base_uri": "https://localhost:8080/",
     "height": 3332
    },
    "colab_type": "code",
    "id": "XFx5IA3iSE82",
    "outputId": "a0ae63b3-8078-47f7-e53a-522cfb6cfc11"
   },
   "outputs": [
    {
     "name": "stdout",
     "output_type": "stream",
     "text": [
      "Predictions after training our model with number of iterations = 20 and learning rate = 0.01\n",
      "      users  movies  ratingsorig   ratings  prediction  absolute error\n",
      "0     558.0      94          3.0 -0.312118   -0.000024        0.312094\n",
      "1     558.0     223          4.0  0.687882    0.006245        0.681637\n",
      "2     558.0     296          3.0 -0.312118   -0.009394        0.302724\n",
      "3     558.0     367          3.0 -0.312118    0.002347        0.314465\n",
      "4     558.0     555          3.0 -0.312118   -0.000022        0.312096\n",
      "5     558.0     593          4.0  0.687882   -0.004269        0.692151\n",
      "6     558.0     597          5.0  1.687882    0.000006        1.687876\n",
      "7     558.0     662          5.0  1.687882    0.017782        1.670100\n",
      "8     558.0    1043          2.0 -1.312118   -0.000054        1.312064\n",
      "9     558.0    1073          5.0  1.687882   -0.012933        1.700815\n",
      "10    558.0    1097          4.0  0.687882    0.010854        0.677028\n",
      "11    558.0    1222          5.0  1.687882    0.000018        1.687864\n",
      "12    558.0    1259          4.0  0.687882    0.003211        0.684671\n",
      "13    558.0    1721          4.0  0.687882    0.002529        0.685353\n",
      "14    558.0    1798          3.0 -0.312118   -0.000073        0.312045\n",
      "15    558.0    1923          4.0  0.687882    0.002414        0.685468\n",
      "16    558.0    1968          5.0  1.687882    0.001652        1.686231\n",
      "17    558.0    2028          4.0  0.687882    0.001695        0.686187\n",
      "18    558.0    2297          5.0  1.687882   -0.001390        1.689272\n",
      "19    558.0    2568          5.0  1.687882    0.000022        1.687860\n",
      "20    558.0    2987          4.0  0.687882    0.002416        0.685466\n",
      "21    558.0    3052          1.0 -2.312118   -0.001505        2.310613\n",
      "22    558.0    3186          5.0  1.687882   -0.005215        1.693098\n",
      "23    558.0    3274          4.0  0.687882   -0.001422        0.689304\n",
      "24    558.0    3285          4.0  0.687882    0.000057        0.687825\n",
      "25    558.0    3479          3.0 -0.312118   -0.000086        0.312031\n",
      "26    558.0    3534          4.0  0.687882    0.000020        0.687862\n",
      "27    558.0    3824          5.0  1.687882    0.000007        1.687875\n",
      "28    558.0    3825          4.0  0.687882    0.017754        0.670128\n",
      "29    558.0    3831          5.0  1.687882    0.000042        1.687840\n",
      "...     ...     ...          ...       ...         ...             ...\n",
      "1769  537.0   45722          5.0  1.687882   -0.002295        1.690178\n",
      "1770  537.0   48516          4.5  1.187882    0.000012        1.187870\n",
      "1771  537.0   53125          5.0  1.687882   -0.002305        1.690188\n",
      "1772  537.0   53322          5.0  1.687882    0.007716        1.680166\n",
      "1773  537.0   55765          5.0  1.687882    0.000036        1.687846\n",
      "1774  537.0   55946          5.0  1.687882    0.000020        1.687862\n",
      "1775  537.0   58295          5.0  1.687882   -0.000010        1.687892\n",
      "1776  537.0   58559          3.5  0.187882   -0.000666        0.188548\n",
      "1777  537.0   69122          4.0  0.687882    0.001181        0.686702\n",
      "1778  537.0   69481          3.5  0.187882    0.000016        0.187866\n",
      "1779  537.0   69844          4.0  0.687882   -0.000036        0.687918\n",
      "1780  537.0   72998          5.0  1.687882    0.000047        1.687835\n",
      "1781  537.0   79132          5.0  1.687882   -0.000068        1.687950\n",
      "1782  537.0   80463          4.0  0.687882   -0.000007        0.687889\n",
      "1783  537.0   80906          5.0  1.687882    0.000046        1.687836\n",
      "1784  537.0   82053          5.0  1.687882    0.000027        1.687855\n",
      "1785  537.0   86911          3.5  0.187882    0.000008        0.187874\n",
      "1786  537.0   89745          1.5 -1.812118   -0.000647        1.811471\n",
      "1787  537.0   90439          5.0  1.687882    0.000006        1.687877\n",
      "1788  537.0   95067          3.0 -0.312118    0.000003        0.312121\n",
      "1789  537.0   97304          4.5  1.187882    0.000027        1.187855\n",
      "1790  537.0   97306          2.5 -0.812118   -0.000015        0.812103\n",
      "1791  537.0   98961          4.0  0.687882    0.000006        0.687876\n",
      "1792  537.0   99114          4.5  1.187882   -0.000296        1.188178\n",
      "1793  537.0  103341          0.5 -2.812118   -0.000064        2.812054\n",
      "1794  537.0  104218          3.5  0.187882   -0.000044        0.187926\n",
      "1795  537.0  104841          3.0 -0.312118    0.000413        0.312531\n",
      "1796  537.0  105504          5.0  1.687882    0.000021        1.687862\n",
      "1797  537.0  106782          5.0  1.687882    0.000028        1.687854\n",
      "1798  537.0  121129          2.5 -0.812118   -0.000013        0.812104\n",
      "\n",
      "[1799 rows x 6 columns]\n",
      "Predictions after training our model with number of iterations = 40 and learning rate = 0.01\n",
      "      users  movies  ratingsorig   ratings  prediction  absolute error\n",
      "0     558.0      94          3.0 -0.312118   -0.072244        0.239874\n",
      "1     558.0     223          4.0  0.687882    0.244468        0.443414\n",
      "2     558.0     296          3.0 -0.312118   -0.174331        0.137787\n",
      "3     558.0     367          3.0 -0.312118   -0.013066        0.299052\n",
      "4     558.0     555          3.0 -0.312118   -0.074085        0.238032\n",
      "5     558.0     593          4.0  0.687882    0.298655        0.389228\n",
      "6     558.0     597          5.0  1.687882    0.328540        1.359342\n",
      "7     558.0     662          5.0  1.687882    0.672563        1.015319\n",
      "8     558.0    1043          2.0 -1.312118   -0.307975        1.004143\n",
      "9     558.0    1073          5.0  1.687882   -0.173176        1.861058\n",
      "10    558.0    1097          4.0  0.687882    0.478684        0.209198\n",
      "11    558.0    1222          5.0  1.687882    0.399724        1.288158\n",
      "12    558.0    1259          4.0  0.687882    0.362280        0.325602\n",
      "13    558.0    1721          4.0  0.687882    0.303090        0.384792\n",
      "14    558.0    1798          3.0 -0.312118   -0.071946        0.240172\n",
      "15    558.0    1923          4.0  0.687882    0.131995        0.555887\n",
      "16    558.0    1968          5.0  1.687882    0.701075        0.986807\n",
      "17    558.0    2028          4.0  0.687882    0.444251        0.243632\n",
      "18    558.0    2297          5.0  1.687882    0.107544        1.580338\n",
      "19    558.0    2568          5.0  1.687882    0.397736        1.290146\n",
      "20    558.0    2987          4.0  0.687882    0.131515        0.556367\n",
      "21    558.0    3052          1.0 -2.312118   -0.248929        2.063189\n",
      "22    558.0    3186          5.0  1.687882   -0.003851        1.691733\n",
      "23    558.0    3274          4.0  0.687882    0.019891        0.667992\n",
      "24    558.0    3285          4.0  0.687882    0.161748        0.526134\n",
      "25    558.0    3479          3.0 -0.312118   -0.071692        0.240426\n",
      "26    558.0    3534          4.0  0.687882    0.161010        0.526872\n",
      "27    558.0    3824          5.0  1.687882    0.396572        1.291311\n",
      "28    558.0    3825          4.0  0.687882    0.583192        0.104690\n",
      "29    558.0    3831          5.0  1.687882    0.399251        1.288631\n",
      "...     ...     ...          ...       ...         ...             ...\n",
      "1769  537.0   45722          5.0  1.687882    0.057418        1.630464\n",
      "1770  537.0   48516          4.5  1.187882    0.233699        0.954183\n",
      "1771  537.0   53125          5.0  1.687882    0.059173        1.628709\n",
      "1772  537.0   53322          5.0  1.687882    0.708742        0.979141\n",
      "1773  537.0   55765          5.0  1.687882    0.332078        1.355804\n",
      "1774  537.0   55946          5.0  1.687882    0.332844        1.355038\n",
      "1775  537.0   58295          5.0  1.687882    0.334811        1.353072\n",
      "1776  537.0   58559          3.5  0.187882    0.023670        0.164213\n",
      "1777  537.0   69122          4.0  0.687882    0.304829        0.383053\n",
      "1778  537.0   69481          3.5  0.187882    0.036917        0.150965\n",
      "1779  537.0   69844          4.0  0.687882    0.135027        0.552855\n",
      "1780  537.0   72998          5.0  1.687882    0.331098        1.356784\n",
      "1781  537.0   79132          5.0  1.687882    0.316307        1.371575\n",
      "1782  537.0   80463          4.0  0.687882    0.135735        0.552147\n",
      "1783  537.0   80906          5.0  1.687882    0.332471        1.355412\n",
      "1784  537.0   82053          5.0  1.687882    0.330280        1.357602\n",
      "1785  537.0   86911          3.5  0.187882    0.036289        0.151593\n",
      "1786  537.0   89745          1.5 -1.812118   -0.439999        1.372118\n",
      "1787  537.0   90439          5.0  1.687882    0.330654        1.357228\n",
      "1788  537.0   95067          3.0 -0.312118   -0.062942        0.249176\n",
      "1789  537.0   97304          4.5  1.187882    0.231135        0.956747\n",
      "1790  537.0   97306          2.5 -0.812118   -0.159762        0.652356\n",
      "1791  537.0   98961          4.0  0.687882    0.135939        0.551943\n",
      "1792  537.0   99114          4.5  1.187882    0.179838        1.008044\n",
      "1793  537.0  103341          0.5 -2.812118   -0.552685        2.259433\n",
      "1794  537.0  104218          3.5  0.187882    0.038525        0.149357\n",
      "1795  537.0  104841          3.0 -0.312118   -0.001813        0.310305\n",
      "1796  537.0  105504          5.0  1.687882    0.332568        1.355315\n",
      "1797  537.0  106782          5.0  1.687882    0.333618        1.354264\n",
      "1798  537.0  121129          2.5 -0.812118   -0.159827        0.652291\n",
      "\n",
      "[1799 rows x 6 columns]\n"
     ]
    },
    {
     "name": "stdout",
     "output_type": "stream",
     "text": [
      "Predictions after training our model with number of iterations = 20 and learning rate = 0.03\n",
      "      users  movies  ratingsorig   ratings  prediction  absolute error\n",
      "0     558.0      94          3.0 -0.312118   -0.210484        0.101634\n",
      "1     558.0     223          4.0  0.687882   -0.067979        0.755861\n",
      "2     558.0     296          3.0 -0.312118    0.188899        0.501017\n",
      "3     558.0     367          3.0 -0.312118    0.071097        0.383215\n",
      "4     558.0     555          3.0 -0.312118   -0.211569        0.100549\n",
      "5     558.0     593          4.0  0.687882    0.311304        0.376578\n",
      "6     558.0     597          5.0  1.687882    1.071561        0.616321\n",
      "7     558.0     662          5.0  1.687882   -0.163636        1.851518\n",
      "8     558.0    1043          2.0 -1.312118   -0.886076        0.426042\n",
      "9     558.0    1073          5.0  1.687882   -0.083623        1.771505\n",
      "10    558.0    1097          4.0  0.687882    0.312175        0.375707\n",
      "11    558.0    1222          5.0  1.687882    1.139325        0.548557\n",
      "12    558.0    1259          4.0  0.687882    0.323162        0.364721\n",
      "13    558.0    1721          4.0  0.687882    0.337413        0.350469\n",
      "14    558.0    1798          3.0 -0.312118   -0.211715        0.100403\n",
      "15    558.0    1923          4.0  0.687882   -0.071967        0.759849\n",
      "16    558.0    1968          5.0  1.687882    1.403468        0.284415\n",
      "17    558.0    2028          4.0  0.687882    0.756672        0.068790\n",
      "18    558.0    2297          5.0  1.687882   -0.186457        1.874339\n",
      "19    558.0    2568          5.0  1.687882    1.140323        0.547559\n",
      "20    558.0    2987          4.0  0.687882   -0.072522        0.760404\n",
      "21    558.0    3052          1.0 -2.312118    0.251087        2.563205\n",
      "22    558.0    3186          5.0  1.687882   -0.190154        1.878037\n",
      "23    558.0    3274          4.0  0.687882   -0.077304        0.765186\n",
      "24    558.0    3285          4.0  0.687882    0.465529        0.222353\n",
      "25    558.0    3479          3.0 -0.312118   -0.210884        0.101234\n",
      "26    558.0    3534          4.0  0.687882    0.463265        0.224618\n",
      "27    558.0    3824          5.0  1.687882    1.142317        0.545565\n",
      "28    558.0    3825          4.0  0.687882   -0.054704        0.742586\n",
      "29    558.0    3831          5.0  1.687882    1.137531        0.550351\n",
      "...     ...     ...          ...       ...         ...             ...\n",
      "1769  537.0   45722          5.0  1.687882    0.015744        1.672138\n",
      "1770  537.0   48516          4.5  1.187882    0.370371        0.817511\n",
      "1771  537.0   53125          5.0  1.687882    0.015868        1.672014\n",
      "1772  537.0   53322          5.0  1.687882   -0.165160        1.853042\n",
      "1773  537.0   55765          5.0  1.687882    0.527495        1.160387\n",
      "1774  537.0   55946          5.0  1.687882    0.528319        1.159563\n",
      "1775  537.0   58295          5.0  1.687882    0.527512        1.160370\n",
      "1776  537.0   58559          3.5  0.187882    0.023961        0.163921\n",
      "1777  537.0   69122          4.0  0.687882    1.431828        0.743946\n",
      "1778  537.0   69481          3.5  0.187882    0.062161        0.125721\n",
      "1779  537.0   69844          4.0  0.687882    0.214893        0.472989\n",
      "1780  537.0   72998          5.0  1.687882    0.526280        1.161602\n",
      "1781  537.0   79132          5.0  1.687882    0.189580        1.498302\n",
      "1782  537.0   80463          4.0  0.687882    0.214990        0.472892\n",
      "1783  537.0   80906          5.0  1.687882    0.525371        1.162511\n",
      "1784  537.0   82053          5.0  1.687882    0.526782        1.161100\n",
      "1785  537.0   86911          3.5  0.187882    0.059674        0.128208\n",
      "1786  537.0   89745          1.5 -1.812118   -0.991396        0.820722\n",
      "1787  537.0   90439          5.0  1.687882    0.527179        1.160703\n",
      "1788  537.0   95067          3.0 -0.312118   -0.096144        0.215973\n",
      "1789  537.0   97304          4.5  1.187882    0.371637        0.816245\n",
      "1790  537.0   97306          2.5 -0.812118   -0.252649        0.559469\n",
      "1791  537.0   98961          4.0  0.687882    0.215519        0.472363\n",
      "1792  537.0   99114          4.5  1.187882   -0.181589        1.369471\n",
      "1793  537.0  103341          0.5 -2.812118   -0.877762        1.934356\n",
      "1794  537.0  104218          3.5  0.187882    0.059708        0.128174\n",
      "1795  537.0  104841          3.0 -0.312118    0.405822        0.717940\n",
      "1796  537.0  105504          5.0  1.687882    0.525260        1.162622\n",
      "1797  537.0  106782          5.0  1.687882    0.526442        1.161440\n",
      "1798  537.0  121129          2.5 -0.812118   -0.253664        0.558454\n",
      "\n",
      "[1799 rows x 6 columns]\n"
     ]
    }
   ],
   "source": [
    "# Question 6 Code Answer\n",
    "\n",
    "def training(iteration, learning_rate):\n",
    "    U = pd.DataFrame(np.random.normal(size=(nUsersInExample, q))*0.001, index=my_batch_users)\n",
    "    V = pd.DataFrame(np.random.normal(size=(n_movies, q))*0.001, index=indexes_unique_movies)\n",
    "    for i in range(iteration):\n",
    "        obj, gU, gV = objective_gradient(Y, U, V)\n",
    "        U -= learning_rate*gU\n",
    "        V -= learning_rate*gV  \n",
    "    return U, V\n",
    "\n",
    "def predictions(Y,U,V):\n",
    "    nrows = Y.shape[0]\n",
    "    pred_list = []\n",
    "    abs_list = []\n",
    "    for i in range(nrows):\n",
    "        row = Y.iloc[i]\n",
    "        user = row['users']\n",
    "        film = row['movies']\n",
    "        rating = row['ratings']\n",
    "        prediction = np.dot(U.loc[user], V.loc[film]) # vTu\n",
    "        abs_error = abs(prediction-rating)\n",
    "        pred_list.append(prediction)\n",
    "        abs_list.append(abs_error)\n",
    "    Y['prediction']=pred_list \n",
    "    Y['absolute error']=abs_list\n",
    "    return Y\n",
    "\n",
    "\n",
    "U, V = training(20, 0.01)\n",
    "Y = predictions(Y,U,V)\n",
    "print(\"Predictions after training our model with number of iterations = 20 and learning rate = 0.01\")\n",
    "print(Y)\n",
    "U, V = training(40, 0.01)\n",
    "Y = predictions(Y,U,V)\n",
    "print(\"Predictions after training our model with number of iterations = 40 and learning rate = 0.01\")\n",
    "print(Y)\n",
    "U, V = training(20, 0.03)\n",
    "Y = predictions(Y,U,V)\n",
    "print(\"Predictions after training our model with number of iterations = 20 and learning rate = 0.03\")\n",
    "print(Y)"
   ]
  },
  {
   "cell_type": "markdown",
   "metadata": {
    "colab_type": "text",
    "id": "AneN-U5USE87"
   },
   "source": [
    "## Stochastic Gradient Descent or Robbins Monroe Algorithm\n",
    "\n",
    "Stochastic gradient descent involves updating separating each gradient update according to each separate observation, rather than summing over them all. It is an approximate optimization method, but it has proven convergence under certain conditions and can be much faster in practice. It is used widely by internet companies for doing machine learning in practice. For example, Facebook's ad ranking algorithm uses stochastic gradient descent. "
   ]
  },
  {
   "cell_type": "markdown",
   "metadata": {
    "colab_type": "text",
    "id": "21ykHnjMSE88"
   },
   "source": [
    "### Assignment Question 7\n",
    "\n",
    "Create a stochastic gradient descent version of the algorithm. Monitor the objective function after every 1000 updates to ensure that it is decreasing. When you have finished, plot the movie map and the user map in two dimensions (you can use the columns of the matrices $\\mathbf{U}$ for the user map and the columns of $\\mathbf{V}$ for the movie map). Provide three observations about these maps.\n",
    "\n",
    "*25 marks*"
   ]
  },
  {
   "cell_type": "code",
   "execution_count": 10,
   "metadata": {
    "colab": {
     "base_uri": "https://localhost:8080/",
     "height": 1897
    },
    "colab_type": "code",
    "id": "PLbFqqNmSE89",
    "outputId": "ad2c92d7-280f-4414-a80d-35fc496ad22c"
   },
   "outputs": [
    {
     "name": "stdout",
     "output_type": "stream",
     "text": [
      "Update 1000 Objective function:  1807.995746885778\n",
      "Update 2000 Objective function:  1807.9957197054541\n",
      "Update 3000 Objective function:  1807.9956107440466\n",
      "Update 4000 Objective function:  1807.9955337764654\n",
      "Update 5000 Objective function:  1807.9954314720208\n",
      "Update 6000 Objective function:  1807.9951917336025\n",
      "Update 7000 Objective function:  1807.9948687026179\n",
      "Update 8000 Objective function:  1807.994315032011\n",
      "Update 9000 Objective function:  1807.993312305478\n",
      "Update 10000 Objective function:  1807.9919123657469\n",
      "Update 11000 Objective function:  1807.9886834747706\n",
      "Update 12000 Objective function:  1807.9830764843841\n",
      "Update 13000 Objective function:  1807.9716572552734\n",
      "Update 14000 Objective function:  1807.9527502288554\n",
      "Update 15000 Objective function:  1807.9072649831908\n",
      "Update 16000 Objective function:  1807.8021396284466\n",
      "Update 17000 Objective function:  1807.609443680758\n",
      "Update 18000 Objective function:  1807.2415953437946\n",
      "Update 19000 Objective function:  1806.4767515810388\n",
      "Update 20000 Objective function:  1804.962480401259\n",
      "Update 21000 Objective function:  1801.9338843756086\n",
      "Update 22000 Objective function:  1795.9918660360004\n",
      "Update 23000 Objective function:  1787.0314718912562\n",
      "Update 24000 Objective function:  1770.7693641006592\n",
      "Update 25000 Objective function:  1738.8071757184139\n",
      "Update 26000 Objective function:  1691.2599468139288\n",
      "Update 27000 Objective function:  1593.3165885468675\n",
      "Update 28000 Objective function:  1443.841605260854\n",
      "Update 29000 Objective function:  1264.1867866773446\n",
      "Update 30000 Objective function:  1103.5025316298252\n",
      "Update 31000 Objective function:  989.2939223147837\n",
      "Update 32000 Objective function:  927.8375030938439\n",
      "Update 33000 Objective function:  891.2858736395111\n",
      "Update 34000 Objective function:  864.4211072794993\n",
      "Update 35000 Objective function:  850.2202732807582\n",
      "Update 36000 Objective function:  839.8181230423786\n",
      "Update 37000 Objective function:  830.1969374365384\n",
      "Update 38000 Objective function:  817.4862337543616\n",
      "Update 39000 Objective function:  806.3090229802565\n",
      "Update 40000 Objective function:  792.6776664212498\n",
      "Update 41000 Objective function:  777.9875647483032\n",
      "Update 42000 Objective function:  762.1981902242972\n",
      "Update 43000 Objective function:  745.6177694384037\n",
      "Update 44000 Objective function:  726.5808811945896\n",
      "Update 45000 Objective function:  705.8458744128073\n",
      "Update 46000 Objective function:  683.2177432501771\n",
      "Update 47000 Objective function:  664.9422873044966\n",
      "Update 48000 Objective function:  639.9114483507933\n",
      "Update 49000 Objective function:  619.563270025621\n",
      "Update 50000 Objective function:  603.5387052801134\n",
      "Update 51000 Objective function:  584.1356627561754\n",
      "Update 52000 Objective function:  566.7428662501936\n",
      "Update 53000 Objective function:  555.1812128447511\n",
      "Update 54000 Objective function:  539.1844339956838\n",
      "Update 55000 Objective function:  528.7139785881084\n",
      "Update 56000 Objective function:  517.81294674549\n",
      "Update 57000 Objective function:  506.71571296971945\n",
      "Update 58000 Objective function:  495.25800384813147\n",
      "Update 59000 Objective function:  482.6318696606327\n",
      "Update 60000 Objective function:  470.50194198420473\n",
      "Update 61000 Objective function:  460.5603290605223\n",
      "Update 62000 Objective function:  443.19247258598375\n",
      "Update 63000 Objective function:  433.4826932317542\n",
      "Update 64000 Objective function:  420.4505324927546\n",
      "Update 65000 Objective function:  407.7465683475791\n",
      "Update 66000 Objective function:  395.13105605439665\n",
      "Update 67000 Objective function:  378.92364262757326\n",
      "Update 68000 Objective function:  367.5590347218058\n",
      "Update 69000 Objective function:  356.3631225595169\n",
      "Update 70000 Objective function:  341.1265243193662\n",
      "Update 71000 Objective function:  330.8741042278551\n",
      "Update 72000 Objective function:  319.5346072123473\n",
      "Update 73000 Objective function:  310.893512096462\n",
      "Update 74000 Objective function:  302.5935558004906\n",
      "Update 75000 Objective function:  292.42353068073464\n",
      "Update 76000 Objective function:  282.8714955964146\n",
      "Update 77000 Objective function:  271.93805314900794\n",
      "Update 78000 Objective function:  263.6328384668576\n",
      "Update 79000 Objective function:  257.1024217465621\n",
      "Update 80000 Objective function:  252.5415463232369\n",
      "Update 81000 Objective function:  245.35513509677716\n",
      "Update 82000 Objective function:  240.2102023971025\n",
      "Update 83000 Objective function:  234.91286161164012\n",
      "Update 84000 Objective function:  229.45244589283462\n",
      "Update 85000 Objective function:  223.31229179881163\n",
      "Update 86000 Objective function:  218.5831614490639\n",
      "Update 87000 Objective function:  211.76032520441677\n",
      "Update 88000 Objective function:  204.19958272126712\n",
      "Update 89000 Objective function:  200.19179176613372\n",
      "Update 90000 Objective function:  195.32132478856704\n",
      "Update 91000 Objective function:  194.1232467345841\n",
      "Update 92000 Objective function:  194.55151423910277\n"
     ]
    },
    {
     "data": {
      "text/plain": [
       "<matplotlib.legend.Legend at 0x104b945f8>"
      ]
     },
     "execution_count": 10,
     "metadata": {},
     "output_type": "execute_result"
    },
    {
     "data": {
      "image/png": "[encoded data removed]",
      "text/plain": [
       "<Figure size 432x288 with 1 Axes>"
      ]
     },
     "metadata": {},
     "output_type": "display_data"
    }
   ],
   "source": [
    "# Question 7 Code Answer\n",
    "import random\n",
    "\n",
    "def calculate_obj(Y,U,V):\n",
    "    obj = 0.\n",
    "    for j in range(Y.shape[0]):\n",
    "        row = Y.iloc[j]\n",
    "        user = row['users']\n",
    "        film = row['movies']\n",
    "        rating = row['ratings']\n",
    "        prediction = np.dot(U.loc[user], V.loc[film]) # vTu\n",
    "        diff = prediction - rating # vTu - y\n",
    "        obj += diff*diff\n",
    "\n",
    "    return obj\n",
    "\n",
    "\n",
    "\n",
    "def training_stochastic(iteration, learning_rate, sample_size, print_n):\n",
    "    U = pd.DataFrame(np.random.normal(size=(nUsersInExample, q))*0.001, index=my_batch_users)\n",
    "    V = pd.DataFrame(np.random.normal(size=(n_movies, q))*0.001, index=indexes_unique_movies)\n",
    "\n",
    "\n",
    "    for i in range(iteration):\n",
    "        Y_sample = Y.sample(sample_size)#random sample of Y\n",
    "        #print(s)           \n",
    "        gU = pd.DataFrame(np.zeros((U.shape)), index=U.index)\n",
    "        gV = pd.DataFrame(np.zeros((V.shape)), index=V.index)\n",
    "        for j in range(sample_size):\n",
    "            row = Y_sample.iloc[j]\n",
    "            user = row['users']\n",
    "            film = row['movies']\n",
    "            rating = row['ratings']\n",
    "            prediction = np.dot(U.loc[user], V.loc[film]) # vTu\n",
    "            diff = prediction - rating # vTu - y\n",
    "            gU.loc[user] += 2*diff*V.loc[film]\n",
    "            gV.loc[film] += 2*diff*U.loc[user]\n",
    "\n",
    "        U -= learning_rate*gU\n",
    "        V -= learning_rate*gV\n",
    "        \n",
    "        if(i==0):\n",
    "            oldObj = calculate_obj(Y,U,V)\n",
    "            \n",
    "        \n",
    "        if ((i+1)*sample_size) % print_n == 0:\n",
    "            obj = calculate_obj(Y,U,V)\n",
    "            print(\"Update\", (i+1)*sample_size, \"Objective function: \", obj)\n",
    "            if(oldObj<obj):\n",
    "                break\n",
    "            else:\n",
    "                oldObj = obj\n",
    "               \n",
    "            \n",
    "    return U, V\n",
    "\n",
    "U, V = training_stochastic(100000,0.01,1,1000)\n",
    "\n",
    "\n",
    "plt.plot(V[0], V[1], 'rx', label = 'Movies')\n",
    "plt.plot(U[0], U[1], 'bx', label = 'Users')\n",
    "plt.legend()\n",
    "\n",
    "\n"
   ]
  },
  {
   "cell_type": "code",
   "execution_count": 12,
   "metadata": {
    "colab": {
     "base_uri": "https://localhost:8080/",
     "height": 452
    },
    "colab_type": "code",
    "id": "zRzNaEm-SE8_",
    "outputId": "539d5bc3-c068-4b26-b027-4c50552804a2"
   },
   "outputs": [
    {
     "data": {
      "text/plain": [
       "<matplotlib.legend.Legend at 0x104b37390>"
      ]
     },
     "execution_count": 12,
     "metadata": {},
     "output_type": "execute_result"
    },
    {
     "data": {
      "image/png": "[encoded data removed]",
      "text/plain": [
       "<Figure size 432x288 with 1 Axes>"
      ]
     },
     "metadata": {},
     "output_type": "display_data"
    }
   ],
   "source": [
    "plt.plot(V[0], V[1], 'rx', label = 'Movies')\n",
    "plt.plot(U[0], U[1], 'bx', label = 'Users')\n",
    "plt.legend()"
   ]
  },
  {
   "cell_type": "markdown",
   "metadata": {
    "colab_type": "text",
    "id": "CKyhFGf_SE9C"
   },
   "source": [
    "#### Question 7 Answer\n",
    "In this figure, we can see the distances between the users and the movies. As the distance between those two decreases, the probability of recommending the movie to user increases. We notice that some users are really close to the movies, which means that probably they have rated more movies, and maybe they rated the movies with the best ratings. On the other hand we notice that some users are away from the movies, and probably this means that these users have not rated many movies, so our system cannot recommend them new movies properly. So our system would recommend them the movies that are closer to them, even if the distance is big."
   ]
  },
  {
   "cell_type": "markdown",
   "metadata": {
    "colab_type": "text",
    "id": "hYL4nF5YSE9D"
   },
   "source": [
    "## Is Our Map Enough? Are Our Data Enough?\n",
    "\n",
    "Is two dimensions really enough to capture the complexity of humans and their artforms? Perhaps we need even more dimensions to capture that complexity. Extending our books analogy further, consider how we should place books that have a historical timeframe as well as some geographical location. Do we really want books from the 2nd World War to sit alongside books from the Roman Empire? Books on the American invasion of Sicily in 1943 are perhaps less related to books about Carthage than those that study the Jewish Revolt from 66-70 (in the Roman Province of Judaea). So books that relate to subjects which are closer in time should be stored together. However, a student of rebellion against empire may also be interested in the relationship between the Jewish Revolt of 66-70 and the Indian Rebellion of 1857, nearly 1800 years later. Whilst the technologies are different, the psychology of the people is shared: a rebellious nation angainst their imperial masters, triggered by misrule with a religious and cultural background. To capture such complexities we would need further dimensions in our latent representation. But are further dimensions justified by the amount of data we have? Can we really understand the facets of a film that only has at most three or four ratings?"
   ]
  },
  {
   "cell_type": "markdown",
   "metadata": {
    "colab_type": "text",
    "id": "qOeBH0IbSE9E"
   },
   "source": [
    "## Going Further\n",
    "\n",
    "If you want to take this model further then you'll need more data. You can use again the MovieLens 100k data but increasing the number of users (for example, for the Steepest Descent Algorithm you can do this by modifying the variable `nUsersInExample` that was set as 10 before)."
   ]
  },
  {
   "cell_type": "markdown",
   "metadata": {
    "colab_type": "text",
    "id": "HQBbwnNuSE9E"
   },
   "source": [
    "### Assignment Question 8\n",
    "\n",
    "Use stochastic gradient descent to make a movie map for the MovieLens 100k data. Plot the map of the movies when you are finished.\n",
    "\n",
    "*15 marks*"
   ]
  },
  {
   "cell_type": "code",
   "execution_count": 16,
   "metadata": {
    "colab": {},
    "colab_type": "code",
    "id": "BNTw4UTqSE9F"
   },
   "outputs": [
    {
     "name": "stdout",
     "output_type": "stream",
     "text": [
      "Update 10000 Objective function:  108591.66935650617\n",
      "Update 20000 Objective function:  108591.66767667247\n",
      "Update 30000 Objective function:  108591.66606362745\n",
      "Update 40000 Objective function:  108591.66413324096\n",
      "Update 50000 Objective function:  108591.6619160633\n",
      "Update 60000 Objective function:  108591.65969477252\n",
      "Update 70000 Objective function:  108591.65719605217\n",
      "Update 80000 Objective function:  108591.65373205481\n",
      "Update 90000 Objective function:  108591.6507202238\n",
      "Update 100000 Objective function:  108591.64591508952\n",
      "Update 110000 Objective function:  108591.64102071935\n",
      "Update 120000 Objective function:  108591.63412377801\n",
      "Update 130000 Objective function:  108591.62491790223\n",
      "Update 140000 Objective function:  108591.61479150636\n",
      "Update 150000 Objective function:  108591.60031702727\n",
      "Update 160000 Objective function:  108591.58440558477\n",
      "Update 170000 Objective function:  108591.5618620725\n",
      "Update 180000 Objective function:  108591.53443839979\n",
      "Update 190000 Objective function:  108591.49805267231\n",
      "Update 200000 Objective function:  108591.4515888989\n",
      "Update 210000 Objective function:  108591.3832855905\n",
      "Update 220000 Objective function:  108591.29196443692\n",
      "Update 230000 Objective function:  108591.167720724\n",
      "Update 240000 Objective function:  108590.99450614292\n",
      "Update 250000 Objective function:  108590.7534085375\n",
      "Update 260000 Objective function:  108590.43555418671\n",
      "Update 270000 Objective function:  108590.01166510214\n",
      "Update 280000 Objective function:  108589.43190564777\n",
      "Update 290000 Objective function:  108588.64171442803\n",
      "Update 300000 Objective function:  108587.49308143392\n",
      "Update 310000 Objective function:  108586.0070924828\n",
      "Update 320000 Objective function:  108583.96493348277\n",
      "Update 330000 Objective function:  108581.32094699262\n",
      "Update 340000 Objective function:  108577.47823027777\n",
      "Update 350000 Objective function:  108572.06637841444\n",
      "Update 360000 Objective function:  108564.35262601524\n",
      "Update 370000 Objective function:  108554.35609790577\n",
      "Update 380000 Objective function:  108539.73378196885\n",
      "Update 390000 Objective function:  108520.19099750415\n",
      "Update 400000 Objective function:  108493.01357239226\n",
      "Update 410000 Objective function:  108460.50806998479\n",
      "Update 420000 Objective function:  108409.05714907523\n",
      "Update 430000 Objective function:  108344.0664206634\n",
      "Update 440000 Objective function:  108256.13640602225\n",
      "Update 450000 Objective function:  108127.76082524988\n",
      "Update 460000 Objective function:  107954.45372605207\n",
      "Update 470000 Objective function:  107718.16183367142\n",
      "Update 480000 Objective function:  107412.89912960473\n",
      "Update 490000 Objective function:  107006.38982684023\n",
      "Update 500000 Objective function:  106454.9160376656\n",
      "Update 510000 Objective function:  105740.4666320664\n",
      "Update 520000 Objective function:  104905.55650705929\n",
      "Update 530000 Objective function:  103911.52121696866\n",
      "Update 540000 Objective function:  102700.33427355625\n",
      "Update 550000 Objective function:  101441.65283362159\n",
      "Update 560000 Objective function:  100134.52956515296\n",
      "Update 570000 Objective function:  98712.1370255342\n",
      "Update 580000 Objective function:  97461.38842413871\n",
      "Update 590000 Objective function:  96305.95516164912\n",
      "Update 600000 Objective function:  95213.65914020922\n",
      "Update 610000 Objective function:  94153.70515002467\n",
      "Update 620000 Objective function:  93251.19596164371\n"
     ]
    },
    {
     "ename": "KeyboardInterrupt",
     "evalue": "",
     "output_type": "error",
     "traceback": [
      "\u001b[0;31m---------------------------------------------------------------------------\u001b[0m",
      "\u001b[0;31mKeyboardInterrupt\u001b[0m                         Traceback (most recent call last)",
      "\u001b[0;32m<ipython-input-16-30d0d44e7fd1>\u001b[0m in \u001b[0;36m<module>\u001b[0;34m()\u001b[0m\n\u001b[1;32m     57\u001b[0m \u001b[0mY\u001b[0m \u001b[0;34m=\u001b[0m \u001b[0mpd\u001b[0m\u001b[0;34m.\u001b[0m\u001b[0mDataFrame\u001b[0m\u001b[0;34m(\u001b[0m\u001b[0;34m{\u001b[0m\u001b[0;34m'users'\u001b[0m\u001b[0;34m:\u001b[0m \u001b[0mp_list_users\u001b[0m\u001b[0;34m,\u001b[0m \u001b[0;34m'movies'\u001b[0m\u001b[0;34m:\u001b[0m \u001b[0mp_list_movies\u001b[0m\u001b[0;34m,\u001b[0m \u001b[0;34m'ratingsorig'\u001b[0m\u001b[0;34m:\u001b[0m \u001b[0mp_list_ratings_original\u001b[0m\u001b[0;34m,\u001b[0m\u001b[0;34m'ratings'\u001b[0m\u001b[0;34m:\u001b[0m\u001b[0mp_list_ratings\u001b[0m\u001b[0;34m.\u001b[0m\u001b[0mtolist\u001b[0m\u001b[0;34m(\u001b[0m\u001b[0;34m)\u001b[0m\u001b[0;34m}\u001b[0m\u001b[0;34m)\u001b[0m\u001b[0;34m\u001b[0m\u001b[0m\n\u001b[1;32m     58\u001b[0m \u001b[0;34m\u001b[0m\u001b[0m\n\u001b[0;32m---> 59\u001b[0;31m \u001b[0mU\u001b[0m\u001b[0;34m,\u001b[0m \u001b[0mV\u001b[0m \u001b[0;34m=\u001b[0m \u001b[0mtraining_stochastic\u001b[0m\u001b[0;34m(\u001b[0m\u001b[0;36m10000000\u001b[0m\u001b[0;34m,\u001b[0m\u001b[0;36m0.01\u001b[0m\u001b[0;34m,\u001b[0m\u001b[0;36m1\u001b[0m\u001b[0;34m,\u001b[0m\u001b[0;36m10000\u001b[0m\u001b[0;34m)\u001b[0m\u001b[0;34m\u001b[0m\u001b[0m\n\u001b[0m",
      "\u001b[0;32m<ipython-input-10-3a16eb44dda5>\u001b[0m in \u001b[0;36mtraining_stochastic\u001b[0;34m(iteration, learning_rate, sample_size, print_n)\u001b[0m\n\u001b[1;32m     23\u001b[0m \u001b[0;34m\u001b[0m\u001b[0m\n\u001b[1;32m     24\u001b[0m     \u001b[0;32mfor\u001b[0m \u001b[0mi\u001b[0m \u001b[0;32min\u001b[0m \u001b[0mrange\u001b[0m\u001b[0;34m(\u001b[0m\u001b[0miteration\u001b[0m\u001b[0;34m)\u001b[0m\u001b[0;34m:\u001b[0m\u001b[0;34m\u001b[0m\u001b[0m\n\u001b[0;32m---> 25\u001b[0;31m         \u001b[0mY_sample\u001b[0m \u001b[0;34m=\u001b[0m \u001b[0mY\u001b[0m\u001b[0;34m.\u001b[0m\u001b[0msample\u001b[0m\u001b[0;34m(\u001b[0m\u001b[0msample_size\u001b[0m\u001b[0;34m)\u001b[0m\u001b[0;31m#random sample of Y\u001b[0m\u001b[0;34m\u001b[0m\u001b[0m\n\u001b[0m\u001b[1;32m     26\u001b[0m         \u001b[0;31m#print(s)\u001b[0m\u001b[0;34m\u001b[0m\u001b[0;34m\u001b[0m\u001b[0m\n\u001b[1;32m     27\u001b[0m         \u001b[0mgU\u001b[0m \u001b[0;34m=\u001b[0m \u001b[0mpd\u001b[0m\u001b[0;34m.\u001b[0m\u001b[0mDataFrame\u001b[0m\u001b[0;34m(\u001b[0m\u001b[0mnp\u001b[0m\u001b[0;34m.\u001b[0m\u001b[0mzeros\u001b[0m\u001b[0;34m(\u001b[0m\u001b[0;34m(\u001b[0m\u001b[0mU\u001b[0m\u001b[0;34m.\u001b[0m\u001b[0mshape\u001b[0m\u001b[0;34m)\u001b[0m\u001b[0;34m)\u001b[0m\u001b[0;34m,\u001b[0m \u001b[0mindex\u001b[0m\u001b[0;34m=\u001b[0m\u001b[0mU\u001b[0m\u001b[0;34m.\u001b[0m\u001b[0mindex\u001b[0m\u001b[0;34m)\u001b[0m\u001b[0;34m\u001b[0m\u001b[0m\n",
      "\u001b[0;32m~/anaconda3/lib/python3.6/site-packages/pandas/core/generic.py\u001b[0m in \u001b[0;36msample\u001b[0;34m(self, n, frac, replace, weights, random_state, axis)\u001b[0m\n\u001b[1;32m   4195\u001b[0m                              \"provide positive value.\")\n\u001b[1;32m   4196\u001b[0m \u001b[0;34m\u001b[0m\u001b[0m\n\u001b[0;32m-> 4197\u001b[0;31m         \u001b[0mlocs\u001b[0m \u001b[0;34m=\u001b[0m \u001b[0mrs\u001b[0m\u001b[0;34m.\u001b[0m\u001b[0mchoice\u001b[0m\u001b[0;34m(\u001b[0m\u001b[0maxis_length\u001b[0m\u001b[0;34m,\u001b[0m \u001b[0msize\u001b[0m\u001b[0;34m=\u001b[0m\u001b[0mn\u001b[0m\u001b[0;34m,\u001b[0m \u001b[0mreplace\u001b[0m\u001b[0;34m=\u001b[0m\u001b[0mreplace\u001b[0m\u001b[0;34m,\u001b[0m \u001b[0mp\u001b[0m\u001b[0;34m=\u001b[0m\u001b[0mweights\u001b[0m\u001b[0;34m)\u001b[0m\u001b[0;34m\u001b[0m\u001b[0m\n\u001b[0m\u001b[1;32m   4198\u001b[0m         \u001b[0;32mreturn\u001b[0m \u001b[0mself\u001b[0m\u001b[0;34m.\u001b[0m\u001b[0mtake\u001b[0m\u001b[0;34m(\u001b[0m\u001b[0mlocs\u001b[0m\u001b[0;34m,\u001b[0m \u001b[0maxis\u001b[0m\u001b[0;34m=\u001b[0m\u001b[0maxis\u001b[0m\u001b[0;34m,\u001b[0m \u001b[0mis_copy\u001b[0m\u001b[0;34m=\u001b[0m\u001b[0;32mFalse\u001b[0m\u001b[0;34m)\u001b[0m\u001b[0;34m\u001b[0m\u001b[0m\n\u001b[1;32m   4199\u001b[0m \u001b[0;34m\u001b[0m\u001b[0m\n",
      "\u001b[0;31mKeyboardInterrupt\u001b[0m: "
     ]
    }
   ],
   "source": [
    "# Code for question 8 here.\n",
    "\n",
    "nUsersInExample = 610\n",
    "my_batch_users = indexes_users[0:nUsersInExample]\n",
    "\"\"\"\n",
    "We will use now the list of 'my_batch_users' to create a matrix Y. \n",
    "\"\"\"\n",
    "# We need to make a list of the movies that these users have watched\n",
    "list_movies_each_user = [[] for _ in range(nUsersInExample)]\n",
    "list_ratings_each_user = [[] for _ in range(nUsersInExample)]\n",
    "# Movies\n",
    "list_movies = ratings['movieId'][ratings['userId'] == my_batch_users[0]].values\n",
    "list_movies_each_user[0] = list_movies                    \n",
    "# Ratings                      \n",
    "list_ratings = ratings['rating'][ratings['userId'] == my_batch_users[0]].values\n",
    "list_ratings_each_user[0] = list_ratings\n",
    "# Users\n",
    "n_each_user = list_movies.shape[0]\n",
    "list_users = my_batch_users[0]*np.ones((1, n_each_user))\n",
    "\n",
    "for i in range(1, nUsersInExample):\n",
    "    # Movies\n",
    "    local_list_per_user_movies = ratings['movieId'][ratings['userId'] == my_batch_users[i]].values\n",
    "    list_movies_each_user[i] = local_list_per_user_movies\n",
    "    list_movies = np.append(list_movies,local_list_per_user_movies)\n",
    "    # Ratings                                 \n",
    "    local_list_per_user_ratings = ratings['rating'][ratings['userId'] == my_batch_users[i]].values\n",
    "    list_ratings_each_user[i] = local_list_per_user_ratings\n",
    "    list_ratings = np.append(list_ratings, local_list_per_user_ratings)  \n",
    "    # Users                                   \n",
    "    n_each_user = local_list_per_user_movies.shape[0]                                                                               \n",
    "    local_rep_user =  my_batch_users[i]*np.ones((1, n_each_user))    \n",
    "    list_users = np.append(list_users, local_rep_user)\n",
    "\n",
    "# Let us first see how many unique movies have been rated\n",
    "indexes_unique_movies = np.unique(list_movies)\n",
    "n_movies = indexes_unique_movies.shape[0]\n",
    "# As it is expected no all users have rated all movies. We will build a matrix Y \n",
    "# with NaN inputs and fill according to the data for each user \n",
    "temp = np.empty((n_movies,nUsersInExample,))\n",
    "temp[:] = np.nan\n",
    "Y_with_NaNs = pd.DataFrame(temp)\n",
    "for i in range(nUsersInExample):\n",
    " local_movies = list_movies_each_user[i]\n",
    " ixs = np.in1d(indexes_unique_movies, local_movies)\n",
    " Y_with_NaNs.loc[ixs, i] = list_ratings_each_user[i]\n",
    "\n",
    "Y_with_NaNs.index = indexes_unique_movies.tolist()\n",
    "Y_with_NaNs.columns = my_batch_users.tolist()\n",
    "\n",
    "p_list_ratings = np.concatenate(list_ratings_each_user).ravel()\n",
    "p_list_ratings_original = p_list_ratings.tolist()\n",
    "mean_ratings_train = np.mean(p_list_ratings)\n",
    "p_list_ratings =  p_list_ratings - mean_ratings_train # remove the mean\n",
    "p_list_movies = np.concatenate(list_movies_each_user).ravel().tolist()\n",
    "p_list_users = list_users.tolist()\n",
    "Y = pd.DataFrame({'users': p_list_users, 'movies': p_list_movies, 'ratingsorig': p_list_ratings_original,'ratings':p_list_ratings.tolist()})\n",
    "\n",
    "U, V = training_stochastic(10000000,0.01,1,10000)"
   ]
  },
  {
   "cell_type": "code",
   "execution_count": 17,
   "metadata": {
    "colab": {},
    "colab_type": "code",
    "id": "BOWcDIaJSE9H",
    "outputId": "2e805ade-d400-4f54-cef4-72bc69d6388a"
   },
   "outputs": [
    {
     "data": {
      "text/plain": [
       "[<matplotlib.lines.Line2D at 0xb181ca0b8>]"
      ]
     },
     "execution_count": 17,
     "metadata": {},
     "output_type": "execute_result"
    },
    {
     "data": {
      "image/png": "[encoded data removed]",
      "text/plain": [
       "<Figure size 432x288 with 1 Axes>"
      ]
     },
     "metadata": {},
     "output_type": "display_data"
    }
   ],
   "source": [
    "plt.plot(V[0], V[1], 'rx')\n",
    "plt.plot(U[0], U[1], 'bx')"
   ]
  },
  {
   "cell_type": "code",
   "execution_count": null,
   "metadata": {},
   "outputs": [],
   "source": []
  }
 ],
 "metadata": {
  "colab": {
   "name": "lab_session_week2.ipynb",
   "provenance": [],
   "version": "0.3.2"
  },
  "kernelspec": {
   "display_name": "Python 3",
   "language": "python",
   "name": "python3"
  },
  "language_info": {
   "codemirror_mode": {
    "name": "ipython",
    "version": 3
   },
   "file_extension": ".py",
   "mimetype": "text/x-python",
   "name": "python",
   "nbconvert_exporter": "python",
   "pygments_lexer": "ipython3",
   "version": "3.6.5"
  }
 },
 "nbformat": 4,
 "nbformat_minor": 1
}
